{
 "cells": [
  {
   "cell_type": "markdown",
   "metadata": {},
   "source": [
    "# 1. Get File Names and Dechostar files only"
   ]
  },
  {
   "cell_type": "code",
   "execution_count": 74,
   "metadata": {},
   "outputs": [
    {
     "name": "stdout",
     "output_type": "stream",
     "text": [
      "c:\\Users\\KIIT\\Desktop\\InHouse Project\\DataSet\n"
     ]
    }
   ],
   "source": [
    "import os\n",
    "path=os.getcwd()+\"\\DataSet\"\n",
    "path=str(os.path.normpath(path))\n",
    "file_name=os.listdir(path)\n",
    "Dechostar_files=list()\n",
    "DechostarFoil_files=list()\n",
    "DechostarALCoat_files=list()\n",
    "DechostarALCoat_files_path=list()\n",
    "DechostarFoil_files_path=list()\n",
    "for i in file_name:\n",
    "    if i.startswith(\"Dechostar\") and \"Foil\" in i:\n",
    "        DechostarFoil_files_path.append(str(path+'\\\\'+i))\n",
    "        DechostarFoil_files.append(i)\n",
    "        Dechostar_files.append(i)\n",
    "    elif i.startswith(\"Dechostar\"):\n",
    "        DechostarALCoat_files_path.append(str(path+'\\\\'+i))\n",
    "        DechostarALCoat_files.append(i)\n",
    "        Dechostar_files.append(i)\n",
    "    else:\n",
    "        pass\n",
    "print(str(path))"
   ]
  },
  {
   "cell_type": "code",
   "execution_count": 69,
   "metadata": {},
   "outputs": [
    {
     "name": "stdout",
     "output_type": "stream",
     "text": [
      "Dechostar_PB_1_ALCoating_NoWhiteRef-20231215-141633-650745-WP-00974.csv\n",
      "Dechostar_PB_1_ALCoating_NoWhiteRef-20231215-141633-700721-WP-00973.csv\n",
      "Dechostar_PB_1_Foil_NoWhiteRef-20231215-121533-783580-WP-00974.csv\n",
      "Dechostar_PB_1_Foil_NoWhiteRef-20231215-121533-853243-WP-00973.csv\n",
      "Dechostar_PB_2_ALCoating_NoWhiteRef-20231215-142205-387877-WP-00974.csv\n",
      "Dechostar_PB_2_ALCoating_NoWhiteRef-20231215-142205-443867-WP-00973.csv\n",
      "Dechostar_PB_2_Foil_NoWhiteRef-20231215-122302-972344-WP-00974.csv\n",
      "Dechostar_PB_2_Foil_NoWhiteRef-20231215-122303-030296-WP-00973.csv\n",
      "Dechostar_PB_3_ALCoating_NoWhiteRef-20231215-143026-135179-WP-00974.csv\n",
      "Dechostar_PB_3_ALCoating_NoWhiteRef-20231215-143026-186911-WP-00973.csv\n",
      "Dechostar_PB_3_Foil_NoWhiteRef-20231215-123130-447284-WP-00974.csv\n",
      "Dechostar_PB_3_Foil_NoWhiteRef-20231215-123130-511270-WP-00973.csv\n",
      "Dechostar_PB_4_ALCoating_NoWhiteRef-20231215-144120-816317-WP-00974.csv\n",
      "Dechostar_PB_4_ALCoating_NoWhiteRef-20231215-144120-868288-WP-00973.csv\n",
      "Dechostar_PB_4_Foil_NoWhiteRef-20231215-125412-011453-WP-00974.csv\n",
      "Dechostar_PB_4_Foil_NoWhiteRef-20231215-125412-107399-WP-00973.csv\n",
      "Dechostar_PB_5_ALCoating_NoWhiteRef-20231215-145137-278427-WP-00974.csv\n",
      "Dechostar_PB_5_ALCoating_NoWhiteRef-20231215-145137-337394-WP-00973.csv\n",
      "********************\n"
     ]
    }
   ],
   "source": [
    "# All file names\n",
    "for i in Dechostar_files:\n",
    "    print(i)\n",
    "print(\"*\"*20)\n"
   ]
  },
  {
   "cell_type": "code",
   "execution_count": 70,
   "metadata": {},
   "outputs": [
    {
     "name": "stdout",
     "output_type": "stream",
     "text": [
      "Dechostar_PB_1_Foil_NoWhiteRef-20231215-121533-783580-WP-00974.csv\n",
      "Dechostar_PB_1_Foil_NoWhiteRef-20231215-121533-853243-WP-00973.csv\n",
      "Dechostar_PB_2_Foil_NoWhiteRef-20231215-122302-972344-WP-00974.csv\n",
      "Dechostar_PB_2_Foil_NoWhiteRef-20231215-122303-030296-WP-00973.csv\n",
      "Dechostar_PB_3_Foil_NoWhiteRef-20231215-123130-447284-WP-00974.csv\n",
      "Dechostar_PB_3_Foil_NoWhiteRef-20231215-123130-511270-WP-00973.csv\n",
      "Dechostar_PB_4_Foil_NoWhiteRef-20231215-125412-011453-WP-00974.csv\n",
      "Dechostar_PB_4_Foil_NoWhiteRef-20231215-125412-107399-WP-00973.csv\n",
      "********************\n"
     ]
    }
   ],
   "source": [
    "# AL Foil files names\n",
    "for i in DechostarFoil_files:\n",
    "    print(i)\n",
    "print(\"*\"*20)"
   ]
  },
  {
   "cell_type": "code",
   "execution_count": 71,
   "metadata": {},
   "outputs": [
    {
     "name": "stdout",
     "output_type": "stream",
     "text": [
      "Dechostar_PB_1_ALCoating_NoWhiteRef-20231215-141633-650745-WP-00974.csv\n",
      "Dechostar_PB_1_ALCoating_NoWhiteRef-20231215-141633-700721-WP-00973.csv\n",
      "Dechostar_PB_2_ALCoating_NoWhiteRef-20231215-142205-387877-WP-00974.csv\n",
      "Dechostar_PB_2_ALCoating_NoWhiteRef-20231215-142205-443867-WP-00973.csv\n",
      "Dechostar_PB_3_ALCoating_NoWhiteRef-20231215-143026-135179-WP-00974.csv\n",
      "Dechostar_PB_3_ALCoating_NoWhiteRef-20231215-143026-186911-WP-00973.csv\n",
      "Dechostar_PB_4_ALCoating_NoWhiteRef-20231215-144120-816317-WP-00974.csv\n",
      "Dechostar_PB_4_ALCoating_NoWhiteRef-20231215-144120-868288-WP-00973.csv\n",
      "Dechostar_PB_5_ALCoating_NoWhiteRef-20231215-145137-278427-WP-00974.csv\n",
      "Dechostar_PB_5_ALCoating_NoWhiteRef-20231215-145137-337394-WP-00973.csv\n",
      "********************\n"
     ]
    }
   ],
   "source": [
    "# AL Coating File Names\n",
    "for i in DechostarALCoat_files:\n",
    "    print(i)\n",
    "print(\"*\"*20)"
   ]
  },
  {
   "cell_type": "markdown",
   "metadata": {},
   "source": [
    "# 2. Read csv data"
   ]
  },
  {
   "cell_type": "code",
   "execution_count": 80,
   "metadata": {},
   "outputs": [
    {
     "name": "stdout",
     "output_type": "stream",
     "text": [
      "   Pixel  Wavelength  Processed   Raw  Dark  Reference\n",
      "0      0      948.59     786.00  9528  8742        NaN\n",
      "1      1      950.17     799.67  9434  8634        NaN\n",
      "2      2      951.76     810.33  9574  8761        NaN\n",
      "3      3      953.34     826.33  9454  8636        NaN\n",
      "4      4      954.92     844.00  9576  8728        NaN \n",
      "\n",
      "   Pixel  Wavelength  Processed   Raw  Dark  Reference\n",
      "0      0      948.59     379.00  9121  8742        NaN\n",
      "1      1      950.17     382.67  9030  8634        NaN\n",
      "2      2      951.76     384.67  9134  8761        NaN\n",
      "3      3      953.34     389.33  9021  8636        NaN\n",
      "4      4      954.92     409.67  9138  8728        NaN \n",
      "\n",
      "0       948.59\n",
      "1       950.17\n",
      "2       951.76\n",
      "3       953.34\n",
      "4       954.92\n",
      "        ...   \n",
      "507    1722.26\n",
      "508    1723.67\n",
      "509    1725.07\n",
      "510    1726.47\n",
      "511    1727.88\n",
      "Name: Wavelength, Length: 512, dtype: float64 \n",
      "\n"
     ]
    }
   ],
   "source": [
    "import pandas as pd\n",
    "Foildata=pd.read_csv(DechostarFoil_files_path[1])           # Foil Data\n",
    "print(Foildata.head(),'\\n')\n",
    "ALCoatdata=pd.read_csv(DechostarALCoat_files_path[1])       # Dechostar Data\n",
    "print(ALCoatdata.head(),'\\n') \n",
    "Vis_WaveL=Foildata.iloc[:,1]                                # Wavelenth range\n",
    "print(Vis_WaveL,'\\n')"
   ]
  },
  {
   "cell_type": "code",
   "execution_count": null,
   "metadata": {},
   "outputs": [],
   "source": []
  }
 ],
 "metadata": {
  "kernelspec": {
   "display_name": "base",
   "language": "python",
   "name": "python3"
  },
  "language_info": {
   "codemirror_mode": {
    "name": "ipython",
    "version": 3
   },
   "file_extension": ".py",
   "mimetype": "text/x-python",
   "name": "python",
   "nbconvert_exporter": "python",
   "pygments_lexer": "ipython3",
   "version": "3.11.4"
  }
 },
 "nbformat": 4,
 "nbformat_minor": 2
}
