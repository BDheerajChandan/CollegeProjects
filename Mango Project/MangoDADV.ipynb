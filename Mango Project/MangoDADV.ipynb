{
 "cells": [
  {
   "cell_type": "code",
   "execution_count": 1,
   "metadata": {},
   "outputs": [],
   "source": [
    "Decho_path=\"C:\\\\Users\\\\KIIT\\\\Desktop\\\\GitHUB\\\\CollegeProjects\\\\Mango Project\\\\DataSet\\\\\""
   ]
  },
  {
   "cell_type": "markdown",
   "metadata": {},
   "source": [
    "# 1. Get File Names and Dechostar files only"
   ]
  },
  {
   "cell_type": "code",
   "execution_count": 2,
   "metadata": {},
   "outputs": [
    {
     "name": "stdout",
     "output_type": "stream",
     "text": [
      "C:\\Users\\KIIT\\Desktop\\GitHUB\\CollegeProjects\\Mango Project\\DataSet\n"
     ]
    }
   ],
   "source": [
    "import os\n",
    "#path=os.getcwd()+\"\\DataSet\"\n",
    "path=Decho_path\n",
    "path=str(os.path.normpath(path))\n",
    "file_name=os.listdir(path)\n",
    "Dechostar_files=list()\n",
    "DechostarFoil_files=list()\n",
    "DechostarALCoat_files=list()\n",
    "DechostarALCoat_files_path=list()\n",
    "DechostarFoil_files_path=list()\n",
    "for i in file_name:\n",
    "    if i.startswith(\"Dechostar\") and \"Foil\" in i:\n",
    "        DechostarFoil_files_path.append(str(path+'\\\\'+i))\n",
    "        DechostarFoil_files.append(i)\n",
    "        Dechostar_files.append(i)\n",
    "    elif i.startswith(\"Dechostar\"):\n",
    "        DechostarALCoat_files_path.append(str(path+'\\\\'+i))\n",
    "        DechostarALCoat_files.append(i)\n",
    "        Dechostar_files.append(i)\n",
    "    else:\n",
    "        pass\n",
    "print(str(path))"
   ]
  },
  {
   "cell_type": "code",
   "execution_count": 3,
   "metadata": {},
   "outputs": [
    {
     "name": "stdout",
     "output_type": "stream",
     "text": [
      "Dechostar_PB_1_ALCoating_NoWhiteRef-20231215-141633-650745-WP-00974.csv\n",
      "Dechostar_PB_1_ALCoating_NoWhiteRef-20231215-141633-700721-WP-00973.csv\n",
      "Dechostar_PB_1_Foil_NoWhiteRef-20231215-121533-783580-WP-00974.csv\n",
      "Dechostar_PB_1_Foil_NoWhiteRef-20231215-121533-853243-WP-00973.csv\n",
      "Dechostar_PB_2_ALCoating_NoWhiteRef-20231215-142205-387877-WP-00974.csv\n",
      "Dechostar_PB_2_ALCoating_NoWhiteRef-20231215-142205-443867-WP-00973.csv\n",
      "Dechostar_PB_2_Foil_NoWhiteRef-20231215-122302-972344-WP-00974.csv\n",
      "Dechostar_PB_2_Foil_NoWhiteRef-20231215-122303-030296-WP-00973.csv\n",
      "Dechostar_PB_3_ALCoating_NoWhiteRef-20231215-143026-135179-WP-00974.csv\n",
      "Dechostar_PB_3_ALCoating_NoWhiteRef-20231215-143026-186911-WP-00973.csv\n",
      "Dechostar_PB_3_Foil_NoWhiteRef-20231215-123130-447284-WP-00974.csv\n",
      "Dechostar_PB_3_Foil_NoWhiteRef-20231215-123130-511270-WP-00973.csv\n",
      "Dechostar_PB_4_ALCoating_NoWhiteRef-20231215-144120-816317-WP-00974.csv\n",
      "Dechostar_PB_4_ALCoating_NoWhiteRef-20231215-144120-868288-WP-00973.csv\n",
      "Dechostar_PB_4_Foil_NoWhiteRef-20231215-125412-011453-WP-00974.csv\n",
      "Dechostar_PB_4_Foil_NoWhiteRef-20231215-125412-107399-WP-00973.csv\n",
      "Dechostar_PB_5_ALCoating_NoWhiteRef-20231215-145137-278427-WP-00974.csv\n",
      "Dechostar_PB_5_ALCoating_NoWhiteRef-20231215-145137-337394-WP-00973.csv\n",
      "********************\n"
     ]
    }
   ],
   "source": [
    "# All file names\n",
    "for i in Dechostar_files:\n",
    "    print(i)\n",
    "print(\"*\"*20)\n"
   ]
  },
  {
   "cell_type": "code",
   "execution_count": 4,
   "metadata": {},
   "outputs": [
    {
     "name": "stdout",
     "output_type": "stream",
     "text": [
      "Dechostar_PB_1_Foil_NoWhiteRef-20231215-121533-783580-WP-00974.csv\n",
      "Dechostar_PB_1_Foil_NoWhiteRef-20231215-121533-853243-WP-00973.csv\n",
      "Dechostar_PB_2_Foil_NoWhiteRef-20231215-122302-972344-WP-00974.csv\n",
      "Dechostar_PB_2_Foil_NoWhiteRef-20231215-122303-030296-WP-00973.csv\n",
      "Dechostar_PB_3_Foil_NoWhiteRef-20231215-123130-447284-WP-00974.csv\n",
      "Dechostar_PB_3_Foil_NoWhiteRef-20231215-123130-511270-WP-00973.csv\n",
      "Dechostar_PB_4_Foil_NoWhiteRef-20231215-125412-011453-WP-00974.csv\n",
      "Dechostar_PB_4_Foil_NoWhiteRef-20231215-125412-107399-WP-00973.csv\n",
      "********************\n"
     ]
    }
   ],
   "source": [
    "# AL Foil files names\n",
    "for i in DechostarFoil_files:\n",
    "    print(i)\n",
    "print(\"*\"*20)"
   ]
  },
  {
   "cell_type": "code",
   "execution_count": 5,
   "metadata": {},
   "outputs": [
    {
     "name": "stdout",
     "output_type": "stream",
     "text": [
      "Dechostar_PB_1_ALCoating_NoWhiteRef-20231215-141633-650745-WP-00974.csv\n",
      "Dechostar_PB_1_ALCoating_NoWhiteRef-20231215-141633-700721-WP-00973.csv\n",
      "Dechostar_PB_2_ALCoating_NoWhiteRef-20231215-142205-387877-WP-00974.csv\n",
      "Dechostar_PB_2_ALCoating_NoWhiteRef-20231215-142205-443867-WP-00973.csv\n",
      "Dechostar_PB_3_ALCoating_NoWhiteRef-20231215-143026-135179-WP-00974.csv\n",
      "Dechostar_PB_3_ALCoating_NoWhiteRef-20231215-143026-186911-WP-00973.csv\n",
      "Dechostar_PB_4_ALCoating_NoWhiteRef-20231215-144120-816317-WP-00974.csv\n",
      "Dechostar_PB_4_ALCoating_NoWhiteRef-20231215-144120-868288-WP-00973.csv\n",
      "Dechostar_PB_5_ALCoating_NoWhiteRef-20231215-145137-278427-WP-00974.csv\n",
      "Dechostar_PB_5_ALCoating_NoWhiteRef-20231215-145137-337394-WP-00973.csv\n",
      "********************\n"
     ]
    }
   ],
   "source": [
    "# AL Coating File Names\n",
    "for i in DechostarALCoat_files:\n",
    "    print(i)\n",
    "print(\"*\"*20)"
   ]
  },
  {
   "cell_type": "markdown",
   "metadata": {},
   "source": [
    "# 2. Read csv data"
   ]
  },
  {
   "cell_type": "code",
   "execution_count": 6,
   "metadata": {},
   "outputs": [
    {
     "name": "stdout",
     "output_type": "stream",
     "text": [
      "   Pixel  Wavelength  Processed   Raw  Dark  Reference\n",
      "0      0      948.59     786.00  9528  8742        NaN\n",
      "1      1      950.17     799.67  9434  8634        NaN\n",
      "2      2      951.76     810.33  9574  8761        NaN\n",
      "3      3      953.34     826.33  9454  8636        NaN\n",
      "4      4      954.92     844.00  9576  8728        NaN \n",
      "\n",
      "   Pixel  Wavelength  Processed   Raw  Dark  Reference\n",
      "0      0      948.59     379.00  9121  8742        NaN\n",
      "1      1      950.17     382.67  9030  8634        NaN\n",
      "2      2      951.76     384.67  9134  8761        NaN\n",
      "3      3      953.34     389.33  9021  8636        NaN\n",
      "4      4      954.92     409.67  9138  8728        NaN \n",
      "\n",
      "0       948.59\n",
      "1       950.17\n",
      "2       951.76\n",
      "3       953.34\n",
      "4       954.92\n",
      "        ...   \n",
      "507    1722.26\n",
      "508    1723.67\n",
      "509    1725.07\n",
      "510    1726.47\n",
      "511    1727.88\n",
      "Name: Wavelength, Length: 512, dtype: float64 \n",
      "\n"
     ]
    }
   ],
   "source": [
    "import pandas as pd\n",
    "Foildata=pd.read_csv(DechostarFoil_files_path[1])           # Foil Data\n",
    "print(Foildata.head(),'\\n')\n",
    "ALCoatdata=pd.read_csv(DechostarALCoat_files_path[1])       # Dechostar Data\n",
    "print(ALCoatdata.head(),'\\n') \n",
    "Vis_WaveL=Foildata.iloc[:,1]                                # Wavelenth range\n",
    "print(Vis_WaveL,'\\n')"
   ]
  },
  {
   "cell_type": "markdown",
   "metadata": {},
   "source": [
    "# 3. Merge files Processed data"
   ]
  },
  {
   "cell_type": "code",
   "execution_count": 29,
   "metadata": {},
   "outputs": [
    {
     "name": "stdout",
     "output_type": "stream",
     "text": [
      "      Pixel  Wavelength  Processed   Raw  Dark  Reference\n",
      "0         0      341.78      49.00   939   890        NaN\n",
      "1         1      342.11      42.33   907   856        NaN\n",
      "2         2      342.44      45.00   888   861        NaN\n",
      "3         3      342.77      43.67   924   867        NaN\n",
      "4         4      343.10      50.67   916   869        NaN\n",
      "...     ...         ...        ...   ...   ...        ...\n",
      "2043   2043      998.42    1882.67  2745   878        NaN\n",
      "2044   2044      998.71    1859.00  2739   873        NaN\n",
      "2045   2045      999.00    1846.67  2705   861        NaN\n",
      "2046   2046      999.29    1832.67  2697   867        NaN\n",
      "2047   2047      999.58    1824.00  2695   871        NaN\n",
      "\n",
      "[2048 rows x 6 columns]\n",
      "     Pixel  Wavelength  Processed   Raw  Dark  Reference\n",
      "0        0      948.59     786.00  9528  8742        NaN\n",
      "1        1      950.17     799.67  9434  8634        NaN\n",
      "2        2      951.76     810.33  9574  8761        NaN\n",
      "3        3      953.34     826.33  9454  8636        NaN\n",
      "4        4      954.92     844.00  9576  8728        NaN\n",
      "..     ...         ...        ...   ...   ...        ...\n",
      "507    507     1722.26      86.00  8745  8659        NaN\n",
      "508    508     1723.67      83.00  8831  8744        NaN\n",
      "509    509     1725.07      77.33  8718  8642        NaN\n",
      "510    510     1726.47      68.33  8831  8762        NaN\n",
      "511    511     1727.88      60.00  8727  8667        NaN\n",
      "\n",
      "[512 rows x 6 columns]\n",
      "      Pixel  Wavelength  Processed   Raw  Dark  Reference\n",
      "0         0      341.78      44.00   934   890        NaN\n",
      "1         1      342.11      51.33   920   856        NaN\n",
      "2         2      342.44      51.33   907   861        NaN\n",
      "3         3      342.77      49.67   911   867        NaN\n",
      "4         4      343.10      52.67   928   869        NaN\n",
      "...     ...         ...        ...   ...   ...        ...\n",
      "2043   2043      998.42    1954.67  2830   878        NaN\n",
      "2044   2044      998.71    1933.33  2779   873        NaN\n",
      "2045   2045      999.00    1915.67  2803   861        NaN\n",
      "2046   2046      999.29    1905.67  2766   867        NaN\n",
      "2047   2047      999.58    1876.00  2747   871        NaN\n",
      "\n",
      "[2048 rows x 6 columns]\n",
      "     Pixel  Wavelength  Processed   Raw  Dark  Reference\n",
      "0        0      948.59     817.00  9559  8742        NaN\n",
      "1        1      950.17     831.33  9472  8634        NaN\n",
      "2        2      951.76     843.33  9600  8761        NaN\n",
      "3        3      953.34     858.33  9489  8636        NaN\n",
      "4        4      954.92     881.00  9611  8728        NaN\n",
      "..     ...         ...        ...   ...   ...        ...\n",
      "507    507     1722.26      76.67  8725  8659        NaN\n",
      "508    508     1723.67      90.33  8849  8744        NaN\n",
      "509    509     1725.07      86.67  8742  8642        NaN\n",
      "510    510     1726.47      72.00  8817  8762        NaN\n",
      "511    511     1727.88      61.00  8728  8667        NaN\n",
      "\n",
      "[512 rows x 6 columns]\n",
      "      Pixel  Wavelength  Processed   Raw  Dark  Reference\n",
      "0         0      341.78      34.00   924   890        NaN\n",
      "1         1      342.11      45.00   903   856        NaN\n",
      "2         2      342.44      50.67   915   861        NaN\n",
      "3         3      342.77      50.33   918   867        NaN\n",
      "4         4      343.10      48.33   915   869        NaN\n",
      "...     ...         ...        ...   ...   ...        ...\n",
      "2043   2043      998.42    1961.67  2826   878        NaN\n",
      "2044   2044      998.71    1963.00  2815   873        NaN\n",
      "2045   2045      999.00    1954.00  2860   861        NaN\n",
      "2046   2046      999.29    1934.33  2788   867        NaN\n",
      "2047   2047      999.58    1883.00  2754   871        NaN\n",
      "\n",
      "[2048 rows x 6 columns]\n",
      "     Pixel  Wavelength  Processed   Raw  Dark  Reference\n",
      "0        0      948.59     805.00  9547  8742        NaN\n",
      "1        1      950.17     823.00  9467  8634        NaN\n",
      "2        2      951.76     837.00  9592  8761        NaN\n",
      "3        3      953.34     854.33  9483  8636        NaN\n",
      "4        4      954.92     881.33  9613  8728        NaN\n",
      "..     ...         ...        ...   ...   ...        ...\n",
      "507    507     1722.26      76.67  8738  8659        NaN\n",
      "508    508     1723.67      79.67  8828  8744        NaN\n",
      "509    509     1725.07      74.67  8718  8642        NaN\n",
      "510    510     1726.47      67.33  8826  8762        NaN\n",
      "511    511     1727.88      62.00  8729  8667        NaN\n",
      "\n",
      "[512 rows x 6 columns]\n",
      "      Pixel  Wavelength  Processed   Raw  Dark  Reference\n",
      "0         0      341.78      34.00   924   890        NaN\n",
      "1         1      342.11      42.00   913   856        NaN\n",
      "2         2      342.44      47.00   896   861        NaN\n",
      "3         3      342.77      38.00   916   867        NaN\n",
      "4         4      343.10      50.67   899   869        NaN\n",
      "...     ...         ...        ...   ...   ...        ...\n",
      "2043   2043      998.42    2009.00  2885   878        NaN\n",
      "2044   2044      998.71    1994.00  2860   873        NaN\n",
      "2045   2045      999.00    1987.67  2849   861        NaN\n",
      "2046   2046      999.29    1969.00  2855   867        NaN\n",
      "2047   2047      999.58    1931.00  2802   871        NaN\n",
      "\n",
      "[2048 rows x 6 columns]\n",
      "     Pixel  Wavelength  Processed   Raw  Dark  Reference\n",
      "0        0      948.59     827.00  9569  8742        NaN\n",
      "1        1      950.17     851.33  9505  8634        NaN\n",
      "2        2      951.76     869.67  9617  8761        NaN\n",
      "3        3      953.34     884.33  9518  8636        NaN\n",
      "4        4      954.92     913.00  9643  8728        NaN\n",
      "..     ...         ...        ...   ...   ...        ...\n",
      "507    507     1722.26     101.33  8767  8659        NaN\n",
      "508    508     1723.67     102.00  8843  8744        NaN\n",
      "509    509     1725.07      94.67  8741  8642        NaN\n",
      "510    510     1726.47      88.00  8848  8762        NaN\n",
      "511    511     1727.88      79.00  8746  8667        NaN\n",
      "\n",
      "[512 rows x 6 columns]\n"
     ]
    }
   ],
   "source": [
    "for i in DechostarFoil_files_path:\n",
    "    data=pd.read_csv(i)\n",
    "    print(data)"
   ]
  },
  {
   "cell_type": "code",
   "execution_count": 28,
   "metadata": {},
   "outputs": [
    {
     "data": {
      "text/plain": [
       "0         49.00\n",
       "1         42.33\n",
       "2         45.00\n",
       "3         43.67\n",
       "4         50.67\n",
       "         ...   \n",
       "2043    1882.67\n",
       "2044    1859.00\n",
       "2045    1846.67\n",
       "2046    1832.67\n",
       "2047    1824.00\n",
       "Name: Processed, Length: 2048, dtype: float64"
      ]
     },
     "execution_count": 28,
     "metadata": {},
     "output_type": "execute_result"
    }
   ],
   "source": [
    "\n",
    "pd.read_csv(DechostarFoil_files_path[0]).iloc[:,2]"
   ]
  },
  {
   "cell_type": "code",
   "execution_count": 27,
   "metadata": {},
   "outputs": [
    {
     "data": {
      "text/plain": [
       "0      786.00\n",
       "1      799.67\n",
       "2      810.33\n",
       "3      826.33\n",
       "4      844.00\n",
       "        ...  \n",
       "507     86.00\n",
       "508     83.00\n",
       "509     77.33\n",
       "510     68.33\n",
       "511     60.00\n",
       "Name: Processed, Length: 512, dtype: float64"
      ]
     },
     "execution_count": 27,
     "metadata": {},
     "output_type": "execute_result"
    }
   ],
   "source": [
    "pd.read_csv(DechostarFoil_files_path[1]).iloc[:,2]"
   ]
  },
  {
   "cell_type": "code",
   "execution_count": null,
   "metadata": {},
   "outputs": [],
   "source": []
  }
 ],
 "metadata": {
  "kernelspec": {
   "display_name": "base",
   "language": "python",
   "name": "python3"
  },
  "language_info": {
   "codemirror_mode": {
    "name": "ipython",
    "version": 3
   },
   "file_extension": ".py",
   "mimetype": "text/x-python",
   "name": "python",
   "nbconvert_exporter": "python",
   "pygments_lexer": "ipython3",
   "version": "3.11.4"
  }
 },
 "nbformat": 4,
 "nbformat_minor": 2
}
