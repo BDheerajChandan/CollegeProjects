{
 "cells": [
  {
   "cell_type": "markdown",
   "metadata": {},
   "source": [
    "# Task 1 - MOVIE GENRE CLASSIFICATION"
   ]
  },
  {
   "cell_type": "code",
   "execution_count": 1,
   "metadata": {},
   "outputs": [
    {
     "data": {
      "text/plain": [
       "'\\nCreate a machine learning model that can predict the genre of a movie \\nbased on its plot summary or other textual information. \\nYou can use techniques like TF-IDF or word embeddings with classifiers such as \\nNaive Bayes, Logistic Regression, or Support Vector Machines.\\n'"
      ]
     },
     "execution_count": 1,
     "metadata": {},
     "output_type": "execute_result"
    }
   ],
   "source": [
    "\"\"\"\n",
    "Create a machine learning model that can predict the genre of a movie \n",
    "based on its plot summary or other textual information. \n",
    "You can use techniques like TF-IDF or word embeddings with classifiers such as \n",
    "Naive Bayes, Logistic Regression, or Support Vector Machines.\n",
    "\"\"\""
   ]
  },
  {
   "cell_type": "code",
   "execution_count": 2,
   "metadata": {},
   "outputs": [
    {
     "data": {
      "text/html": [
       "<div>\n",
       "<style scoped>\n",
       "    .dataframe tbody tr th:only-of-type {\n",
       "        vertical-align: middle;\n",
       "    }\n",
       "\n",
       "    .dataframe tbody tr th {\n",
       "        vertical-align: top;\n",
       "    }\n",
       "\n",
       "    .dataframe thead th {\n",
       "        text-align: right;\n",
       "    }\n",
       "</style>\n",
       "<table border=\"1\" class=\"dataframe\">\n",
       "  <thead>\n",
       "    <tr style=\"text-align: right;\">\n",
       "      <th></th>\n",
       "      <th></th>\n",
       "      <th></th>\n",
       "      <th>Train data:</th>\n",
       "    </tr>\n",
       "  </thead>\n",
       "  <tbody>\n",
       "    <tr>\n",
       "      <th rowspan=\"4\" valign=\"top\">ID</th>\n",
       "      <th rowspan=\"4\" valign=\"top\">TITLE</th>\n",
       "      <th>GENRE</th>\n",
       "      <td>DESCRIPTION</td>\n",
       "    </tr>\n",
       "    <tr>\n",
       "      <th>GENRE</th>\n",
       "      <td>DESCRIPTION</td>\n",
       "    </tr>\n",
       "    <tr>\n",
       "      <th>GENRE</th>\n",
       "      <td>DESCRIPTION</td>\n",
       "    </tr>\n",
       "    <tr>\n",
       "      <th>GENRE</th>\n",
       "      <td>DESCRIPTION</td>\n",
       "    </tr>\n",
       "    <tr>\n",
       "      <th>Test data:</th>\n",
       "      <th>NaN</th>\n",
       "      <th>NaN</th>\n",
       "      <td>None</td>\n",
       "    </tr>\n",
       "    <tr>\n",
       "      <th rowspan=\"4\" valign=\"top\">ID</th>\n",
       "      <th rowspan=\"4\" valign=\"top\">TITLE</th>\n",
       "      <th>DESCRIPTION</th>\n",
       "      <td>None</td>\n",
       "    </tr>\n",
       "    <tr>\n",
       "      <th>DESCRIPTION</th>\n",
       "      <td>None</td>\n",
       "    </tr>\n",
       "    <tr>\n",
       "      <th>DESCRIPTION</th>\n",
       "      <td>None</td>\n",
       "    </tr>\n",
       "    <tr>\n",
       "      <th>DESCRIPTION</th>\n",
       "      <td>None</td>\n",
       "    </tr>\n",
       "    <tr>\n",
       "      <th>Source:</th>\n",
       "      <th>NaN</th>\n",
       "      <th>NaN</th>\n",
       "      <td>None</td>\n",
       "    </tr>\n",
       "    <tr>\n",
       "      <th>ftp://ftp.fu-berlin.de/pub/misc/movies/database/</th>\n",
       "      <th>NaN</th>\n",
       "      <th>NaN</th>\n",
       "      <td>None</td>\n",
       "    </tr>\n",
       "  </tbody>\n",
       "</table>\n",
       "</div>"
      ],
      "text/plain": [
       "                                                                        Train data:\n",
       "ID                                                TITLE   GENRE         DESCRIPTION\n",
       "                                                          GENRE         DESCRIPTION\n",
       "                                                          GENRE         DESCRIPTION\n",
       "                                                          GENRE         DESCRIPTION\n",
       "Test data:                                       NaN     NaN                   None\n",
       "ID                                                TITLE   DESCRIPTION          None\n",
       "                                                          DESCRIPTION          None\n",
       "                                                          DESCRIPTION          None\n",
       "                                                          DESCRIPTION          None\n",
       "Source:                                          NaN     NaN                   None\n",
       "ftp://ftp.fu-berlin.de/pub/misc/movies/database/ NaN     NaN                   None"
      ]
     },
     "execution_count": 2,
     "metadata": {},
     "output_type": "execute_result"
    }
   ],
   "source": [
    "import pandas as pd\n",
    "import warnings\n",
    "warnings.filterwarnings(\"ignore\")\n",
    "data=pd.read_csv(\"description.txt\",sep=\":::\")\n",
    "data"
   ]
  },
  {
   "cell_type": "code",
   "execution_count": null,
   "metadata": {},
   "outputs": [],
   "source": []
  },
  {
   "cell_type": "code",
   "execution_count": null,
   "metadata": {},
   "outputs": [],
   "source": []
  },
  {
   "cell_type": "code",
   "execution_count": null,
   "metadata": {},
   "outputs": [],
   "source": []
  },
  {
   "cell_type": "code",
   "execution_count": 3,
   "metadata": {},
   "outputs": [
    {
     "name": "stdout",
     "output_type": "stream",
     "text": [
      "Train Data:\n",
      "  ID                             Title     Genre  \\\n",
      "0  1      Oscar et la dame rose (2009)     drama   \n",
      "1  2                      Cupid (1997)  thriller   \n",
      "2  3  Young, Wild and Wonderful (1980)     adult   \n",
      "3  4             The Secret Sin (1915)     drama   \n",
      "4  5            The Unrecovered (2007)     drama   \n",
      "\n",
      "                                         Description  \n",
      "0  Listening in to a conversation between his doc...  \n",
      "1  A brother and sister with a past incestuous re...  \n",
      "2  As the bus empties the students for their fiel...  \n",
      "3  To help their unemployed father make ends meet...  \n",
      "4  The film's title refers not only to the un-rec...  \n",
      "\n",
      "Test Data:\n",
      "  ID                        Title  \\\n",
      "0  1         Edgar's Lunch (1998)   \n",
      "1  2     La guerra de papá (1977)   \n",
      "2  3  Off the Beaten Track (2010)   \n",
      "3  4       Meu Amigo Hindu (2015)   \n",
      "4  5            Er nu zhai (1955)   \n",
      "\n",
      "                                         Description  \n",
      "0  L.R. Brane loves his life - his car, his apart...  \n",
      "1  Spain, March 1964: Quico is a very naughty chi...  \n",
      "2  One year in the life of Albin and his family o...  \n",
      "3  His father has died, he hasn't spoken with his...  \n",
      "4  Before he was known internationally as a marti...  \n",
      "\n",
      "Test Solution:\n",
      "  ID                        Title        Genre  \\\n",
      "0  1         Edgar's Lunch (1998)     thriller   \n",
      "1  2     La guerra de papá (1977)       comedy   \n",
      "2  3  Off the Beaten Track (2010)  documentary   \n",
      "3  4       Meu Amigo Hindu (2015)        drama   \n",
      "4  5            Er nu zhai (1955)        drama   \n",
      "\n",
      "                                         Description  \n",
      "0  L.R. Brane loves his life - his car, his apart...  \n",
      "1  Spain, March 1964: Quico is a very naughty chi...  \n",
      "2  One year in the life of Albin and his family o...  \n",
      "3  His father has died, he hasn't spoken with his...  \n",
      "4  Before he was known internationally as a marti...  \n"
     ]
    }
   ],
   "source": [
    "import pandas as pd\n",
    "\n",
    "# Define a function to read the data in the \"ID ::: TITLE ::: GENRE ::: DESCRIPTION\" format\n",
    "def load_data(file_path):\n",
    "    # Load the file\n",
    "    with open(file_path, 'r', encoding='utf-8') as f:\n",
    "        data = f.readlines()\n",
    "    \n",
    "    # Split each line by \" ::: \" to get individual components\n",
    "    data = [line.strip().split(' ::: ') for line in data]\n",
    "    \n",
    "    return data\n",
    "\n",
    "# Load training data (train_data has all 4 columns)\n",
    "train_data = load_data('train_data.txt')\n",
    "train_df = pd.DataFrame(train_data, columns=['ID', 'Title', 'Genre', 'Description'])\n",
    "\n",
    "# Load test data (test_data has only 3 columns, no Genre column)\n",
    "test_data = load_data('test_data.txt')\n",
    "test_df = pd.DataFrame(test_data, columns=['ID', 'Title', 'Description'])  # No 'Genre' column in test data\n",
    "\n",
    "# Load test data solution (test_solution has 3 columns: ID, Title, Genre)\n",
    "test_solution = load_data('test_data_solution.txt')\n",
    "test_solution_df = pd.DataFrame(test_solution, columns=['ID', 'Title', 'Genre', 'Description'])  # Solution has 'Genre' column\n",
    "\n",
    "# Show the first few rows of the train and test data to confirm they are loaded correctly\n",
    "print(\"Train Data:\")\n",
    "print(train_df.head())  # Should have 4 columns: ID, Title, Genre, Description\n",
    "print(\"\\nTest Data:\")\n",
    "print(test_df.head())   # Should have 3 columns: ID, Title, Description\n",
    "print(\"\\nTest Solution:\")\n",
    "print(test_solution_df.head())  # Should have 3 columns: ID, Title, Genre\n"
   ]
  },
  {
   "cell_type": "markdown",
   "metadata": {},
   "source": [
    "# 2. Preprocessing "
   ]
  },
  {
   "cell_type": "code",
   "execution_count": 4,
   "metadata": {},
   "outputs": [
    {
     "data": {
      "text/plain": [
       "\"import nltk\\nfrom nltk.corpus import stopwords\\nfrom nltk.tokenize import word_tokenize\\n\\n# Download NLTK data (only if you haven't downloaded before)\\nnltk.download('punkt')\\nnltk.download('stopwords')\\n\\n# Preprocessing function: Tokenize, remove stopwords, and convert to lowercase\\ndef preprocess_text(text):\\n    # Tokenize and convert to lowercase\\n    tokens = word_tokenize(text.lower())\\n    \\n    # Remove non-alphabetic tokens and stopwords\\n    stop_words = set(stopwords.words('english'))\\n    tokens = [word for word in tokens if word.isalpha() and word not in stop_words]\\n    \\n    return ' '.join(tokens)\\n\\n# Apply preprocessing to train and test data\\ntrain_df['clean_description'] = train_df['Description'].apply(preprocess_text)\\ntest_df['clean_description'] = test_df['Description'].apply(preprocess_text)\\n\\n# Check the cleaned data\\nprint(train_df[['Title', 'clean_description']].head())\""
      ]
     },
     "execution_count": 4,
     "metadata": {},
     "output_type": "execute_result"
    }
   ],
   "source": [
    "\"\"\"import nltk\n",
    "from nltk.corpus import stopwords\n",
    "from nltk.tokenize import word_tokenize\n",
    "\n",
    "# Download NLTK data (only if you haven't downloaded before)\n",
    "nltk.download('punkt')\n",
    "nltk.download('stopwords')\n",
    "\n",
    "# Preprocessing function: Tokenize, remove stopwords, and convert to lowercase\n",
    "def preprocess_text(text):\n",
    "    # Tokenize and convert to lowercase\n",
    "    tokens = word_tokenize(text.lower())\n",
    "    \n",
    "    # Remove non-alphabetic tokens and stopwords\n",
    "    stop_words = set(stopwords.words('english'))\n",
    "    tokens = [word for word in tokens if word.isalpha() and word not in stop_words]\n",
    "    \n",
    "    return ' '.join(tokens)\n",
    "\n",
    "# Apply preprocessing to train and test data\n",
    "train_df['clean_description'] = train_df['Description'].apply(preprocess_text)\n",
    "test_df['clean_description'] = test_df['Description'].apply(preprocess_text)\n",
    "\n",
    "# Check the cleaned data\n",
    "print(train_df[['Title', 'clean_description']].head())\"\"\"\n"
   ]
  },
  {
   "cell_type": "markdown",
   "metadata": {},
   "source": [
    "# 3. Feature extraction : TF-IDF"
   ]
  },
  {
   "cell_type": "code",
   "execution_count": 5,
   "metadata": {},
   "outputs": [
    {
     "name": "stdout",
     "output_type": "stream",
     "text": [
      "Training data shape: (54214, 10000)\n",
      "Test data shape: (54200, 10000)\n"
     ]
    }
   ],
   "source": [
    "from sklearn.feature_extraction.text import TfidfVectorizer\n",
    "\n",
    "# Initialize the TF-IDF Vectorizer\n",
    "vectorizer = TfidfVectorizer(max_features=10000)\n",
    "\n",
    "# Fit and transform the training data\n",
    "X_train_tfidf = vectorizer.fit_transform(train_df['Description'])\n",
    "\n",
    "# Transform the test data using the same vectorizer\n",
    "X_test_tfidf = vectorizer.transform(test_df['Description'])\n",
    "\n",
    "# Display the shape of the feature matrices\n",
    "print(f\"Training data shape: {X_train_tfidf.shape}\")\n",
    "print(f\"Test data shape: {X_test_tfidf.shape}\")\n"
   ]
  },
  {
   "cell_type": "markdown",
   "metadata": {},
   "source": [
    "# 4. Encoding the Target labels"
   ]
  },
  {
   "cell_type": "code",
   "execution_count": 6,
   "metadata": {},
   "outputs": [
    {
     "name": "stdout",
     "output_type": "stream",
     "text": [
      "Unique genres in the training data: ['action' 'adult' 'adventure' 'animation' 'biography' 'comedy' 'crime'\n",
      " 'documentary' 'drama' 'family' 'fantasy' 'game-show' 'history' 'horror'\n",
      " 'music' 'musical' 'mystery' 'news' 'reality-tv' 'romance' 'sci-fi'\n",
      " 'short' 'sport' 'talk-show' 'thriller' 'war' 'western']\n"
     ]
    }
   ],
   "source": [
    "from sklearn.preprocessing import LabelEncoder\n",
    "\n",
    "# Encode genres into numeric labels\n",
    "label_encoder = LabelEncoder()\n",
    "y_train = label_encoder.fit_transform(train_df['Genre'])\n",
    "\n",
    "# Check the unique genres after encoding\n",
    "print(f\"Unique genres in the training data: {label_encoder.classes_}\")\n"
   ]
  },
  {
   "cell_type": "markdown",
   "metadata": {},
   "source": [
    "# 5. Train classifier"
   ]
  },
  {
   "cell_type": "code",
   "execution_count": 7,
   "metadata": {},
   "outputs": [
    {
     "name": "stdout",
     "output_type": "stream",
     "text": [
      "                         Title Predicted_Genre\n",
      "0         Edgar's Lunch (1998)           drama\n",
      "1     La guerra de papá (1977)           drama\n",
      "2  Off the Beaten Track (2010)     documentary\n",
      "3       Meu Amigo Hindu (2015)           drama\n",
      "4            Er nu zhai (1955)           drama\n"
     ]
    }
   ],
   "source": [
    "from sklearn.linear_model import LogisticRegression\n",
    "\n",
    "# Initialize and train the Logistic Regression model\n",
    "lr_model = LogisticRegression(max_iter=200)\n",
    "lr_model.fit(X_train_tfidf, y_train)\n",
    "\n",
    "# Predict on the test data\n",
    "y_pred = lr_model.predict(X_test_tfidf)\n",
    "\n",
    "# Decode the predictions back to genre labels\n",
    "predicted_genres = label_encoder.inverse_transform(y_pred)\n",
    "\n",
    "# Add predictions to the test dataframe\n",
    "test_df['Predicted_Genre'] = predicted_genres\n",
    "\n",
    "# Display the first few rows of the test dataframe with predictions\n",
    "print(test_df[['Title', 'Predicted_Genre']].head())\n"
   ]
  },
  {
   "cell_type": "markdown",
   "metadata": {},
   "source": [
    "# 6. Model Evaluation"
   ]
  },
  {
   "cell_type": "code",
   "execution_count": 8,
   "metadata": {},
   "outputs": [
    {
     "name": "stdout",
     "output_type": "stream",
     "text": [
      "  ID        Genre Predicted_Genre\n",
      "0  1     thriller           drama\n",
      "1  2       comedy           drama\n",
      "2  3  documentary     documentary\n",
      "3  4        drama           drama\n",
      "4  5        drama           drama\n",
      "Accuracy: 0.5948\n",
      "\n",
      "Classification Report:\n",
      "              precision    recall  f1-score   support\n",
      "\n",
      "      action       0.51      0.30      0.37      1314\n",
      "       adult       0.65      0.24      0.36       590\n",
      "   adventure       0.67      0.16      0.26       775\n",
      "   animation       0.61      0.04      0.08       498\n",
      "   biography       0.00      0.00      0.00       264\n",
      "      comedy       0.54      0.60      0.57      7446\n",
      "       crime       0.41      0.03      0.06       505\n",
      " documentary       0.68      0.87      0.76     13096\n",
      "       drama       0.55      0.79      0.65     13612\n",
      "      family       0.49      0.08      0.14       783\n",
      "     fantasy       0.61      0.03      0.06       322\n",
      "   game-show       0.90      0.49      0.64       193\n",
      "     history       0.00      0.00      0.00       243\n",
      "      horror       0.66      0.57      0.61      2204\n",
      "       music       0.68      0.46      0.55       731\n",
      "     musical       0.44      0.01      0.03       276\n",
      "     mystery       0.25      0.00      0.01       318\n",
      "        news       0.69      0.05      0.09       181\n",
      "  reality-tv       0.50      0.21      0.30       883\n",
      "     romance       0.43      0.02      0.05       672\n",
      "      sci-fi       0.60      0.26      0.36       646\n",
      "       short       0.48      0.33      0.40      5072\n",
      "       sport       0.73      0.29      0.41       431\n",
      "   talk-show       0.61      0.19      0.29       391\n",
      "    thriller       0.41      0.13      0.19      1590\n",
      "         war       1.00      0.01      0.02       132\n",
      "     western       0.91      0.73      0.81      1032\n",
      "\n",
      "    accuracy                           0.59     54200\n",
      "   macro avg       0.56      0.26      0.30     54200\n",
      "weighted avg       0.58      0.59      0.55     54200\n",
      "\n"
     ]
    }
   ],
   "source": [
    "import pandas as pd\n",
    "from sklearn.metrics import accuracy_score, classification_report\n",
    "\n",
    "# Ensure that the 'predicted_genres' are assigned to 'test_df'\n",
    "# You may need to adjust this if your model output differs\n",
    "test_df['Predicted_Genre'] = predicted_genres  # Add predicted genres to the test DataFrame\n",
    "\n",
    "# Now, merge 'test_solution_df' with 'test_df' on 'ID' to compare the actual and predicted genres\n",
    "merged_df = pd.merge(test_solution_df[['ID', 'Genre']], test_df[['ID', 'Predicted_Genre']], on='ID')\n",
    "\n",
    "# Check the columns of merged_df to confirm 'Predicted_Genre' is present\n",
    "print(merged_df.head())\n",
    "\n",
    "# Compare actual and predicted genres\n",
    "accuracy = accuracy_score(merged_df['Genre'], merged_df['Predicted_Genre'])\n",
    "\n",
    "# Print the accuracy\n",
    "print(f\"Accuracy: {accuracy:.4f}\")\n",
    "\n",
    "# Generate the classification report\n",
    "print(\"\\nClassification Report:\")\n",
    "print(classification_report(merged_df['Genre'], merged_df['Predicted_Genre']))\n"
   ]
  },
  {
   "cell_type": "markdown",
   "metadata": {},
   "source": [
    "# 7. NB"
   ]
  },
  {
   "cell_type": "code",
   "execution_count": 9,
   "metadata": {},
   "outputs": [
    {
     "name": "stdout",
     "output_type": "stream",
     "text": [
      "Naive Bayes Accuracy: 0.5092066420664206\n",
      "Naive Bayes Classification Report:\n",
      "              precision    recall  f1-score   support\n",
      "\n",
      "      action       0.57      0.03      0.06      1314\n",
      "       adult       0.46      0.02      0.04       590\n",
      "   adventure       0.77      0.04      0.08       775\n",
      "   animation       0.00      0.00      0.00       498\n",
      "   biography       0.00      0.00      0.00       264\n",
      "      comedy       0.53      0.40      0.46      7446\n",
      "       crime       0.00      0.00      0.00       505\n",
      " documentary       0.56      0.89      0.69     13096\n",
      "       drama       0.44      0.84      0.58     13612\n",
      "      family       0.00      0.00      0.00       783\n",
      "     fantasy       0.00      0.00      0.00       322\n",
      "   game-show       1.00      0.02      0.04       193\n",
      "     history       0.00      0.00      0.00       243\n",
      "      horror       0.77      0.23      0.35      2204\n",
      "       music       0.89      0.02      0.04       731\n",
      "     musical       0.00      0.00      0.00       276\n",
      "     mystery       0.00      0.00      0.00       318\n",
      "        news       0.00      0.00      0.00       181\n",
      "  reality-tv       0.75      0.00      0.01       883\n",
      "     romance       0.00      0.00      0.00       672\n",
      "      sci-fi       0.00      0.00      0.00       646\n",
      "       short       0.65      0.09      0.15      5072\n",
      "       sport       0.79      0.08      0.14       431\n",
      "   talk-show       0.00      0.00      0.00       391\n",
      "    thriller       0.14      0.00      0.00      1590\n",
      "         war       0.00      0.00      0.00       132\n",
      "     western       0.99      0.41      0.58      1032\n",
      "\n",
      "    accuracy                           0.51     54200\n",
      "   macro avg       0.34      0.11      0.12     54200\n",
      "weighted avg       0.50      0.51      0.42     54200\n",
      "\n"
     ]
    }
   ],
   "source": [
    "from sklearn.naive_bayes import MultinomialNB\n",
    "from sklearn.metrics import accuracy_score, classification_report\n",
    "\n",
    "# Initialize the Naive Bayes model\n",
    "nb_model = MultinomialNB()\n",
    "\n",
    "# Train the Naive Bayes model\n",
    "nb_model.fit(X_train_tfidf, y_train)\n",
    "\n",
    "# Predict the genres on the test data\n",
    "y_pred_nb = nb_model.predict(X_test_tfidf)\n",
    "\n",
    "# Decode the predictions back to genre labels\n",
    "predicted_genres_nb = label_encoder.inverse_transform(y_pred_nb)\n",
    "\n",
    "# Add predictions to the test dataframe\n",
    "test_df['Predicted_Genre_NB'] = predicted_genres_nb\n",
    "\n",
    "# Evaluate the model\n",
    "merged_df_nb = pd.merge(test_solution_df, test_df[['ID', 'Predicted_Genre_NB']], on='ID')\n",
    "\n",
    "# Accuracy and classification report for Naive Bayes\n",
    "accuracy_nb = accuracy_score(merged_df_nb['Genre'], merged_df_nb['Predicted_Genre_NB'])\n",
    "print(f\"Naive Bayes Accuracy: {accuracy_nb}\")\n",
    "print(\"Naive Bayes Classification Report:\")\n",
    "print(classification_report(merged_df_nb['Genre'], merged_df_nb['Predicted_Genre_NB'], target_names=label_encoder.classes_))\n"
   ]
  },
  {
   "cell_type": "markdown",
   "metadata": {},
   "source": [
    "# 8. SVM"
   ]
  },
  {
   "cell_type": "code",
   "execution_count": 10,
   "metadata": {},
   "outputs": [
    {
     "name": "stdout",
     "output_type": "stream",
     "text": [
      "SVM Accuracy: 0.600110701107011\n",
      "SVM Classification Report:\n",
      "              precision    recall  f1-score   support\n",
      "\n",
      "      action       0.44      0.36      0.40      1314\n",
      "       adult       0.62      0.39      0.48       590\n",
      "   adventure       0.55      0.22      0.31       775\n",
      "   animation       0.47      0.13      0.21       498\n",
      "   biography       0.00      0.00      0.00       264\n",
      "      comedy       0.55      0.60      0.57      7446\n",
      "       crime       0.31      0.04      0.06       505\n",
      " documentary       0.69      0.86      0.77     13096\n",
      "       drama       0.56      0.77      0.65     13612\n",
      "      family       0.52      0.10      0.17       783\n",
      "     fantasy       0.37      0.06      0.10       322\n",
      "   game-show       0.84      0.61      0.71       193\n",
      "     history       0.00      0.00      0.00       243\n",
      "      horror       0.67      0.60      0.63      2204\n",
      "       music       0.67      0.51      0.58       731\n",
      "     musical       0.47      0.03      0.06       276\n",
      "     mystery       0.33      0.01      0.02       318\n",
      "        news       0.61      0.09      0.16       181\n",
      "  reality-tv       0.54      0.28      0.37       883\n",
      "     romance       0.50      0.00      0.01       672\n",
      "      sci-fi       0.56      0.34      0.42       646\n",
      "       short       0.50      0.33      0.39      5072\n",
      "       sport       0.69      0.33      0.45       431\n",
      "   talk-show       0.64      0.29      0.40       391\n",
      "    thriller       0.41      0.15      0.22      1590\n",
      "         war       0.89      0.06      0.11       132\n",
      "     western       0.91      0.78      0.84      1032\n",
      "\n",
      "    accuracy                           0.60     54200\n",
      "   macro avg       0.53      0.29      0.34     54200\n",
      "weighted avg       0.58      0.60      0.56     54200\n",
      "\n"
     ]
    }
   ],
   "source": [
    "from sklearn.svm import SVC\n",
    "from sklearn.metrics import accuracy_score, classification_report\n",
    "\n",
    "# Initialize the Support Vector Machine (SVM) model with a linear kernel\n",
    "svm_model = SVC(kernel='linear')\n",
    "\n",
    "# Train the SVM model\n",
    "svm_model.fit(X_train_tfidf, y_train)\n",
    "\n",
    "# Predict the genres on the test data\n",
    "y_pred_svm = svm_model.predict(X_test_tfidf)\n",
    "\n",
    "# Decode the predictions back to genre labels\n",
    "predicted_genres_svm = label_encoder.inverse_transform(y_pred_svm)\n",
    "\n",
    "# Add predictions to the test dataframe\n",
    "test_df['Predicted_Genre_SVM'] = predicted_genres_svm\n",
    "\n",
    "# Evaluate the model\n",
    "merged_df_svm = pd.merge(test_solution_df, test_df[['ID', 'Predicted_Genre_SVM']], on='ID')\n",
    "\n",
    "# Accuracy and classification report for SVM\n",
    "accuracy_svm = accuracy_score(merged_df_svm['Genre'], merged_df_svm['Predicted_Genre_SVM'])\n",
    "print(f\"SVM Accuracy: {accuracy_svm}\")\n",
    "print(\"SVM Classification Report:\")\n",
    "print(classification_report(merged_df_svm['Genre'], merged_df_svm['Predicted_Genre_SVM'], target_names=label_encoder.classes_))\n"
   ]
  }
 ],
 "metadata": {
  "kernelspec": {
   "display_name": "base",
   "language": "python",
   "name": "python3"
  },
  "language_info": {
   "codemirror_mode": {
    "name": "ipython",
    "version": 3
   },
   "file_extension": ".py",
   "mimetype": "text/x-python",
   "name": "python",
   "nbconvert_exporter": "python",
   "pygments_lexer": "ipython3",
   "version": "3.11.4"
  }
 },
 "nbformat": 4,
 "nbformat_minor": 2
}
