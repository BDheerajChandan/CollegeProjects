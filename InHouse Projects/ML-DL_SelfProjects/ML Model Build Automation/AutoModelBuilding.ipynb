{
 "cells": [
  {
   "cell_type": "markdown",
   "metadata": {},
   "source": [
    "# 1. Get all folder name and details."
   ]
  },
  {
   "cell_type": "code",
   "execution_count": 330,
   "metadata": {},
   "outputs": [
    {
     "data": {
      "text/plain": [
       "['.gitkeep',\n",
       " 'Income&Expenditure.db',\n",
       " 'Income&Expenditure.xlsx',\n",
       " 'IncomeExpenditure - Copy.ipynb',\n",
       " 'IncomeExpenditure.ipynb']"
      ]
     },
     "execution_count": 330,
     "metadata": {},
     "output_type": "execute_result"
    }
   ],
   "source": [
    "import os \n",
    "cur_path=os.getcwd()\n",
    "#print(cur_path)\n",
    "Execl_path=f\"{cur_path}\\\\..\\\\..\\\\Python_SelfProjects\\\\Database AutoCreation\"\n",
    "Excel_file_dir=os.listdir(path=Execl_path)\n",
    "Excel_file_dir\n"
   ]
  },
  {
   "cell_type": "code",
   "execution_count": 331,
   "metadata": {},
   "outputs": [
    {
     "data": {
      "text/plain": [
       "'c:\\\\Users\\\\KIIT\\\\Desktop\\\\GitHUB\\\\CollegeProjects\\\\InHouse Projects\\\\ML-DL_SelfProjects\\\\ML Model Build Automation\\\\..\\\\..\\\\Python_SelfProjects\\\\Database AutoCreation'"
      ]
     },
     "execution_count": 331,
     "metadata": {},
     "output_type": "execute_result"
    }
   ],
   "source": [
    "Execl_path"
   ]
  },
  {
   "cell_type": "markdown",
   "metadata": {},
   "source": [
    "# 2. Read excel and convert to csv"
   ]
  },
  {
   "cell_type": "code",
   "execution_count": 332,
   "metadata": {},
   "outputs": [
    {
     "data": {
      "text/html": [
       "<div>\n",
       "<style scoped>\n",
       "    .dataframe tbody tr th:only-of-type {\n",
       "        vertical-align: middle;\n",
       "    }\n",
       "\n",
       "    .dataframe tbody tr th {\n",
       "        vertical-align: top;\n",
       "    }\n",
       "\n",
       "    .dataframe thead th {\n",
       "        text-align: right;\n",
       "    }\n",
       "</style>\n",
       "<table border=\"1\" class=\"dataframe\">\n",
       "  <thead>\n",
       "    <tr style=\"text-align: right;\">\n",
       "      <th></th>\n",
       "      <th>Serial Number</th>\n",
       "      <th>Date</th>\n",
       "      <th>Day</th>\n",
       "      <th>IncExp Status</th>\n",
       "      <th>Rupees</th>\n",
       "      <th>Pupose of IncExp</th>\n",
       "      <th>Payment mode</th>\n",
       "      <th>Monthly Saving</th>\n",
       "      <th>Cumulative Saving</th>\n",
       "      <th>Total Balance</th>\n",
       "    </tr>\n",
       "  </thead>\n",
       "  <tbody>\n",
       "    <tr>\n",
       "      <th>0</th>\n",
       "      <td>1</td>\n",
       "      <td>31-07-2023</td>\n",
       "      <td>Monday</td>\n",
       "      <td>Income</td>\n",
       "      <td>27700.0</td>\n",
       "      <td>Office</td>\n",
       "      <td>Online</td>\n",
       "      <td>27700.0</td>\n",
       "      <td>27700.0</td>\n",
       "      <td>206620.21</td>\n",
       "    </tr>\n",
       "    <tr>\n",
       "      <th>1</th>\n",
       "      <td>2</td>\n",
       "      <td>01-08-2023</td>\n",
       "      <td>Tuesday</td>\n",
       "      <td>Expenditure</td>\n",
       "      <td>720.9</td>\n",
       "      <td>Mobile Recharge</td>\n",
       "      <td>Online</td>\n",
       "      <td>26979.1</td>\n",
       "      <td>26979.1</td>\n",
       "      <td>205899.31</td>\n",
       "    </tr>\n",
       "    <tr>\n",
       "      <th>2</th>\n",
       "      <td>3</td>\n",
       "      <td>02-08-2023</td>\n",
       "      <td>Wednesday</td>\n",
       "      <td>None</td>\n",
       "      <td>0.0</td>\n",
       "      <td>None</td>\n",
       "      <td>None</td>\n",
       "      <td>26979.1</td>\n",
       "      <td>26979.1</td>\n",
       "      <td>205899.31</td>\n",
       "    </tr>\n",
       "    <tr>\n",
       "      <th>3</th>\n",
       "      <td>4</td>\n",
       "      <td>03-08-2023</td>\n",
       "      <td>Thursday</td>\n",
       "      <td>None</td>\n",
       "      <td>0.0</td>\n",
       "      <td>None</td>\n",
       "      <td>None</td>\n",
       "      <td>26979.1</td>\n",
       "      <td>26979.1</td>\n",
       "      <td>205899.31</td>\n",
       "    </tr>\n",
       "    <tr>\n",
       "      <th>4</th>\n",
       "      <td>5</td>\n",
       "      <td>04-08-2023</td>\n",
       "      <td>Friday</td>\n",
       "      <td>None</td>\n",
       "      <td>0.0</td>\n",
       "      <td>None</td>\n",
       "      <td>None</td>\n",
       "      <td>26979.1</td>\n",
       "      <td>26979.1</td>\n",
       "      <td>205899.31</td>\n",
       "    </tr>\n",
       "  </tbody>\n",
       "</table>\n",
       "</div>"
      ],
      "text/plain": [
       "   Serial Number        Date        Day IncExp Status   Rupees  \\\n",
       "0              1  31-07-2023     Monday        Income  27700.0   \n",
       "1              2  01-08-2023    Tuesday   Expenditure    720.9   \n",
       "2              3  02-08-2023  Wednesday          None      0.0   \n",
       "3              4  03-08-2023   Thursday          None      0.0   \n",
       "4              5  04-08-2023     Friday          None      0.0   \n",
       "\n",
       "  Pupose of IncExp Payment mode  Monthly Saving  Cumulative Saving  \\\n",
       "0           Office       Online         27700.0            27700.0   \n",
       "1  Mobile Recharge       Online         26979.1            26979.1   \n",
       "2             None         None         26979.1            26979.1   \n",
       "3             None         None         26979.1            26979.1   \n",
       "4             None         None         26979.1            26979.1   \n",
       "\n",
       "   Total Balance  \n",
       "0      206620.21  \n",
       "1      205899.31  \n",
       "2      205899.31  \n",
       "3      205899.31  \n",
       "4      205899.31  "
      ]
     },
     "execution_count": 332,
     "metadata": {},
     "output_type": "execute_result"
    }
   ],
   "source": [
    "import pandas as pd\n",
    "Excel_file_data=pd.read_excel(f\"{Execl_path}\\\\Income&Expenditure.xlsx\").iloc[:,1:]\n",
    "Excel_file_data.head()"
   ]
  },
  {
   "cell_type": "code",
   "execution_count": 333,
   "metadata": {},
   "outputs": [
    {
     "data": {
      "text/html": [
       "<div>\n",
       "<style scoped>\n",
       "    .dataframe tbody tr th:only-of-type {\n",
       "        vertical-align: middle;\n",
       "    }\n",
       "\n",
       "    .dataframe tbody tr th {\n",
       "        vertical-align: top;\n",
       "    }\n",
       "\n",
       "    .dataframe thead th {\n",
       "        text-align: right;\n",
       "    }\n",
       "</style>\n",
       "<table border=\"1\" class=\"dataframe\">\n",
       "  <thead>\n",
       "    <tr style=\"text-align: right;\">\n",
       "      <th></th>\n",
       "      <th>Serial Number</th>\n",
       "      <th>Date</th>\n",
       "      <th>Day</th>\n",
       "      <th>IncExp Status</th>\n",
       "      <th>Rupees</th>\n",
       "      <th>Pupose of IncExp</th>\n",
       "      <th>Payment mode</th>\n",
       "      <th>Monthly Saving</th>\n",
       "      <th>Cumulative Saving</th>\n",
       "      <th>Total Balance</th>\n",
       "    </tr>\n",
       "  </thead>\n",
       "  <tbody>\n",
       "    <tr>\n",
       "      <th>0</th>\n",
       "      <td>1</td>\n",
       "      <td>31-07-2023</td>\n",
       "      <td>Monday</td>\n",
       "      <td>Income</td>\n",
       "      <td>27700.0</td>\n",
       "      <td>Office</td>\n",
       "      <td>Online</td>\n",
       "      <td>27700.0</td>\n",
       "      <td>27700.0</td>\n",
       "      <td>206620.21</td>\n",
       "    </tr>\n",
       "    <tr>\n",
       "      <th>1</th>\n",
       "      <td>2</td>\n",
       "      <td>01-08-2023</td>\n",
       "      <td>Tuesday</td>\n",
       "      <td>Expenditure</td>\n",
       "      <td>720.9</td>\n",
       "      <td>Mobile Recharge</td>\n",
       "      <td>Online</td>\n",
       "      <td>26979.1</td>\n",
       "      <td>26979.1</td>\n",
       "      <td>205899.31</td>\n",
       "    </tr>\n",
       "    <tr>\n",
       "      <th>2</th>\n",
       "      <td>3</td>\n",
       "      <td>02-08-2023</td>\n",
       "      <td>Wednesday</td>\n",
       "      <td>None</td>\n",
       "      <td>0.0</td>\n",
       "      <td>None</td>\n",
       "      <td>None</td>\n",
       "      <td>26979.1</td>\n",
       "      <td>26979.1</td>\n",
       "      <td>205899.31</td>\n",
       "    </tr>\n",
       "    <tr>\n",
       "      <th>3</th>\n",
       "      <td>4</td>\n",
       "      <td>03-08-2023</td>\n",
       "      <td>Thursday</td>\n",
       "      <td>None</td>\n",
       "      <td>0.0</td>\n",
       "      <td>None</td>\n",
       "      <td>None</td>\n",
       "      <td>26979.1</td>\n",
       "      <td>26979.1</td>\n",
       "      <td>205899.31</td>\n",
       "    </tr>\n",
       "    <tr>\n",
       "      <th>4</th>\n",
       "      <td>5</td>\n",
       "      <td>04-08-2023</td>\n",
       "      <td>Friday</td>\n",
       "      <td>None</td>\n",
       "      <td>0.0</td>\n",
       "      <td>None</td>\n",
       "      <td>None</td>\n",
       "      <td>26979.1</td>\n",
       "      <td>26979.1</td>\n",
       "      <td>205899.31</td>\n",
       "    </tr>\n",
       "  </tbody>\n",
       "</table>\n",
       "</div>"
      ],
      "text/plain": [
       "   Serial Number        Date        Day IncExp Status   Rupees  \\\n",
       "0              1  31-07-2023     Monday        Income  27700.0   \n",
       "1              2  01-08-2023    Tuesday   Expenditure    720.9   \n",
       "2              3  02-08-2023  Wednesday          None      0.0   \n",
       "3              4  03-08-2023   Thursday          None      0.0   \n",
       "4              5  04-08-2023     Friday          None      0.0   \n",
       "\n",
       "  Pupose of IncExp Payment mode  Monthly Saving  Cumulative Saving  \\\n",
       "0           Office       Online         27700.0            27700.0   \n",
       "1  Mobile Recharge       Online         26979.1            26979.1   \n",
       "2             None         None         26979.1            26979.1   \n",
       "3             None         None         26979.1            26979.1   \n",
       "4             None         None         26979.1            26979.1   \n",
       "\n",
       "   Total Balance  \n",
       "0      206620.21  \n",
       "1      205899.31  \n",
       "2      205899.31  \n",
       "3      205899.31  \n",
       "4      205899.31  "
      ]
     },
     "execution_count": 333,
     "metadata": {},
     "output_type": "execute_result"
    }
   ],
   "source": [
    "Excel_file_data.to_csv(\"Income&Expenditure.csv\")\n",
    "IncExp_data=pd.read_csv(\"Income&Expenditure.csv\").iloc[:,1:]\n",
    "IncExp_data.head()"
   ]
  },
  {
   "cell_type": "markdown",
   "metadata": {},
   "source": [
    "# 3. Decalare ML Model "
   ]
  },
  {
   "cell_type": "code",
   "execution_count": 334,
   "metadata": {},
   "outputs": [
    {
     "name": "stdout",
     "output_type": "stream",
     "text": [
      "Regression model to be applied\n"
     ]
    }
   ],
   "source": [
    "Reg_model_flag=None\n",
    "if len(IncExp_data.iloc[:,-1].unique())>2:\n",
    "    print(\"Regression model to be applied\")\n",
    "    Reg_model_flag=\"regression\"\n",
    "\n",
    "elif len(IncExp_data.iloc[:,-1].unique())==2:\n",
    "    print(\"Classification moddel to be applied\")\n",
    "    Reg_model_flag=\"classification\"\n",
    "    \n",
    "else:\n",
    "    pass"
   ]
  },
  {
   "cell_type": "code",
   "execution_count": 335,
   "metadata": {},
   "outputs": [],
   "source": [
    "#if Reg_model_flag==\"regression\":pass elif Reg_model_flag==\"classification\":pass else: pass"
   ]
  },
  {
   "cell_type": "code",
   "execution_count": 336,
   "metadata": {},
   "outputs": [],
   "source": [
    "from sklearn.linear_model import LinearRegression\n",
    "from sklearn.svm import SVR\n",
    "from sklearn.tree import DecisionTreeRegressor\n",
    "from sklearn.ensemble import RandomForestRegressor   \n",
    "model_linearRegression=LinearRegression()\n",
    "model_SVRegression=SVR()\n",
    "model_DTRegression=DecisionTreeRegressor()\n",
    "model_RFRegression=RandomForestRegressor()\n",
    "model_regression={\"Linear Regression\":model_linearRegression,\n",
    "                  \"SVM Regression\":model_SVRegression,\n",
    "                  \"DecisionTree Regression\":model_DTRegression,\n",
    "                  \"Randomforest Regression\":model_RFRegression}\n",
    "\n",
    "from sklearn.linear_model import LogisticRegression\n",
    "from sklearn.svm import SVC\n",
    "from sklearn.tree import DecisionTreeClassifier\n",
    "from sklearn.ensemble import RandomForestClassifier\n",
    "model_logsClassify=LogisticRegression()\n",
    "model_SVClassify=SVC()\n",
    "model_DTClassify=DecisionTreeClassifier()\n",
    "model_RFClassify=RandomForestClassifier()\n",
    "model_Classify={\"Logistic Regression\":model_logsClassify,\n",
    "                \"SVM Classification\":model_SVClassify,\n",
    "                \"DecisionTree Classification\":model_DTClassify,\n",
    "                \"Randomforest Classification\":model_RFClassify}"
   ]
  },
  {
   "cell_type": "code",
   "execution_count": 337,
   "metadata": {},
   "outputs": [
    {
     "name": "stdout",
     "output_type": "stream",
     "text": [
      "Linear Regression : LinearRegression()\n",
      "SVM Regression : SVR()\n",
      "DecisionTree Regression : DecisionTreeRegressor()\n",
      "Randomforest Regression : RandomForestRegressor()\n",
      "\n",
      "Logistic Regression : LogisticRegression()\n",
      "SVM Classification : SVC()\n",
      "DecisionTree Classification : DecisionTreeClassifier()\n",
      "Randomforest Classification : RandomForestClassifier()\n"
     ]
    }
   ],
   "source": [
    "for model_name,model in model_regression.items():\n",
    "    print(model_name,end=\" : \")\n",
    "    print(model)\n",
    "print()\n",
    "for model_name,model in model_Classify.items():\n",
    "    print(model_name,end=\" : \")\n",
    "    print(model)"
   ]
  },
  {
   "cell_type": "markdown",
   "metadata": {},
   "source": [
    "# EDA(Explanatory Data Analysis)"
   ]
  },
  {
   "cell_type": "code",
   "execution_count": 338,
   "metadata": {},
   "outputs": [
    {
     "data": {
      "text/plain": [
       "Serial Number        0\n",
       "Date                 0\n",
       "Day                  0\n",
       "IncExp Status        0\n",
       "Rupees               0\n",
       "Pupose of IncExp     2\n",
       "Payment mode         0\n",
       "Monthly Saving       0\n",
       "Cumulative Saving    0\n",
       "Total Balance        0\n",
       "dtype: int64"
      ]
     },
     "execution_count": 338,
     "metadata": {},
     "output_type": "execute_result"
    }
   ],
   "source": [
    "IncExp_data.isnull().sum()"
   ]
  },
  {
   "cell_type": "markdown",
   "metadata": {},
   "source": [
    "# Data Cleaning - Outliers, Null values"
   ]
  },
  {
   "cell_type": "code",
   "execution_count": 339,
   "metadata": {},
   "outputs": [
    {
     "data": {
      "text/plain": [
       "Serial Number        0\n",
       "Date                 0\n",
       "Day                  0\n",
       "IncExp Status        0\n",
       "Rupees               0\n",
       "Pupose of IncExp     0\n",
       "Payment mode         0\n",
       "Monthly Saving       0\n",
       "Cumulative Saving    0\n",
       "Total Balance        0\n",
       "dtype: int64"
      ]
     },
     "execution_count": 339,
     "metadata": {},
     "output_type": "execute_result"
    }
   ],
   "source": [
    "IncExp_data[\"Pupose of IncExp\"].fillna(str(0),inplace=True)\n",
    "IncExp_data.isnull().sum()"
   ]
  },
  {
   "cell_type": "code",
   "execution_count": 340,
   "metadata": {},
   "outputs": [
    {
     "name": "stdout",
     "output_type": "stream",
     "text": [
      "<class 'pandas.core.frame.DataFrame'>\n",
      "RangeIndex: 269 entries, 0 to 268\n",
      "Data columns (total 10 columns):\n",
      " #   Column             Non-Null Count  Dtype  \n",
      "---  ------             --------------  -----  \n",
      " 0   Serial Number      269 non-null    int64  \n",
      " 1   Date               269 non-null    object \n",
      " 2   Day                269 non-null    object \n",
      " 3   IncExp Status      269 non-null    object \n",
      " 4   Rupees             269 non-null    float64\n",
      " 5   Pupose of IncExp   269 non-null    object \n",
      " 6   Payment mode       269 non-null    object \n",
      " 7   Monthly Saving     269 non-null    float64\n",
      " 8   Cumulative Saving  269 non-null    float64\n",
      " 9   Total Balance      269 non-null    float64\n",
      "dtypes: float64(4), int64(1), object(5)\n",
      "memory usage: 21.1+ KB\n"
     ]
    }
   ],
   "source": [
    "IncExp_data.info()"
   ]
  },
  {
   "cell_type": "markdown",
   "metadata": {},
   "source": [
    "# Feature Extraction "
   ]
  },
  {
   "cell_type": "code",
   "execution_count": 341,
   "metadata": {},
   "outputs": [
    {
     "name": "stdout",
     "output_type": "stream",
     "text": [
      "['Day', 'IncExp Status', 'Pupose of IncExp', 'Payment mode']\n"
     ]
    },
    {
     "data": {
      "text/html": [
       "<div>\n",
       "<style scoped>\n",
       "    .dataframe tbody tr th:only-of-type {\n",
       "        vertical-align: middle;\n",
       "    }\n",
       "\n",
       "    .dataframe tbody tr th {\n",
       "        vertical-align: top;\n",
       "    }\n",
       "\n",
       "    .dataframe thead th {\n",
       "        text-align: right;\n",
       "    }\n",
       "</style>\n",
       "<table border=\"1\" class=\"dataframe\">\n",
       "  <thead>\n",
       "    <tr style=\"text-align: right;\">\n",
       "      <th></th>\n",
       "      <th>Serial Number</th>\n",
       "      <th>Date</th>\n",
       "      <th>Day</th>\n",
       "      <th>IncExp Status</th>\n",
       "      <th>Rupees</th>\n",
       "      <th>Pupose of IncExp</th>\n",
       "      <th>Payment mode</th>\n",
       "      <th>Monthly Saving</th>\n",
       "      <th>Cumulative Saving</th>\n",
       "      <th>Total Balance</th>\n",
       "    </tr>\n",
       "  </thead>\n",
       "  <tbody>\n",
       "    <tr>\n",
       "      <th>0</th>\n",
       "      <td>1</td>\n",
       "      <td>31-07-2023</td>\n",
       "      <td>1</td>\n",
       "      <td>1</td>\n",
       "      <td>27700.0</td>\n",
       "      <td>30</td>\n",
       "      <td>2</td>\n",
       "      <td>27700.0</td>\n",
       "      <td>27700.00</td>\n",
       "      <td>206620.21</td>\n",
       "    </tr>\n",
       "    <tr>\n",
       "      <th>1</th>\n",
       "      <td>2</td>\n",
       "      <td>01-08-2023</td>\n",
       "      <td>5</td>\n",
       "      <td>0</td>\n",
       "      <td>720.9</td>\n",
       "      <td>23</td>\n",
       "      <td>2</td>\n",
       "      <td>26979.1</td>\n",
       "      <td>26979.10</td>\n",
       "      <td>205899.31</td>\n",
       "    </tr>\n",
       "    <tr>\n",
       "      <th>2</th>\n",
       "      <td>3</td>\n",
       "      <td>02-08-2023</td>\n",
       "      <td>6</td>\n",
       "      <td>2</td>\n",
       "      <td>0.0</td>\n",
       "      <td>29</td>\n",
       "      <td>1</td>\n",
       "      <td>26979.1</td>\n",
       "      <td>26979.10</td>\n",
       "      <td>205899.31</td>\n",
       "    </tr>\n",
       "    <tr>\n",
       "      <th>3</th>\n",
       "      <td>4</td>\n",
       "      <td>03-08-2023</td>\n",
       "      <td>4</td>\n",
       "      <td>2</td>\n",
       "      <td>0.0</td>\n",
       "      <td>29</td>\n",
       "      <td>1</td>\n",
       "      <td>26979.1</td>\n",
       "      <td>26979.10</td>\n",
       "      <td>205899.31</td>\n",
       "    </tr>\n",
       "    <tr>\n",
       "      <th>4</th>\n",
       "      <td>5</td>\n",
       "      <td>04-08-2023</td>\n",
       "      <td>0</td>\n",
       "      <td>2</td>\n",
       "      <td>0.0</td>\n",
       "      <td>29</td>\n",
       "      <td>1</td>\n",
       "      <td>26979.1</td>\n",
       "      <td>26979.10</td>\n",
       "      <td>205899.31</td>\n",
       "    </tr>\n",
       "    <tr>\n",
       "      <th>...</th>\n",
       "      <td>...</td>\n",
       "      <td>...</td>\n",
       "      <td>...</td>\n",
       "      <td>...</td>\n",
       "      <td>...</td>\n",
       "      <td>...</td>\n",
       "      <td>...</td>\n",
       "      <td>...</td>\n",
       "      <td>...</td>\n",
       "      <td>...</td>\n",
       "    </tr>\n",
       "    <tr>\n",
       "      <th>264</th>\n",
       "      <td>255</td>\n",
       "      <td>31-01-2024</td>\n",
       "      <td>6</td>\n",
       "      <td>1</td>\n",
       "      <td>27700.0</td>\n",
       "      <td>30</td>\n",
       "      <td>2</td>\n",
       "      <td>27700.0</td>\n",
       "      <td>160080.37</td>\n",
       "      <td>339000.58</td>\n",
       "    </tr>\n",
       "    <tr>\n",
       "      <th>265</th>\n",
       "      <td>256</td>\n",
       "      <td>01-02-2024</td>\n",
       "      <td>4</td>\n",
       "      <td>2</td>\n",
       "      <td>0.0</td>\n",
       "      <td>29</td>\n",
       "      <td>1</td>\n",
       "      <td>27700.0</td>\n",
       "      <td>160080.37</td>\n",
       "      <td>339000.58</td>\n",
       "    </tr>\n",
       "    <tr>\n",
       "      <th>266</th>\n",
       "      <td>257</td>\n",
       "      <td>02-02-2024</td>\n",
       "      <td>0</td>\n",
       "      <td>2</td>\n",
       "      <td>0.0</td>\n",
       "      <td>29</td>\n",
       "      <td>1</td>\n",
       "      <td>27700.0</td>\n",
       "      <td>160080.37</td>\n",
       "      <td>339000.58</td>\n",
       "    </tr>\n",
       "    <tr>\n",
       "      <th>267</th>\n",
       "      <td>258</td>\n",
       "      <td>03-02-2024</td>\n",
       "      <td>2</td>\n",
       "      <td>0</td>\n",
       "      <td>8000.0</td>\n",
       "      <td>0</td>\n",
       "      <td>0</td>\n",
       "      <td>19700.0</td>\n",
       "      <td>152080.37</td>\n",
       "      <td>331000.58</td>\n",
       "    </tr>\n",
       "    <tr>\n",
       "      <th>268</th>\n",
       "      <td>259</td>\n",
       "      <td>04-02-2024</td>\n",
       "      <td>3</td>\n",
       "      <td>0</td>\n",
       "      <td>80.0</td>\n",
       "      <td>0</td>\n",
       "      <td>2</td>\n",
       "      <td>19620.0</td>\n",
       "      <td>152000.37</td>\n",
       "      <td>330920.58</td>\n",
       "    </tr>\n",
       "  </tbody>\n",
       "</table>\n",
       "<p>269 rows × 10 columns</p>\n",
       "</div>"
      ],
      "text/plain": [
       "     Serial Number        Date  Day  IncExp Status   Rupees  Pupose of IncExp  \\\n",
       "0                1  31-07-2023    1              1  27700.0                30   \n",
       "1                2  01-08-2023    5              0    720.9                23   \n",
       "2                3  02-08-2023    6              2      0.0                29   \n",
       "3                4  03-08-2023    4              2      0.0                29   \n",
       "4                5  04-08-2023    0              2      0.0                29   \n",
       "..             ...         ...  ...            ...      ...               ...   \n",
       "264            255  31-01-2024    6              1  27700.0                30   \n",
       "265            256  01-02-2024    4              2      0.0                29   \n",
       "266            257  02-02-2024    0              2      0.0                29   \n",
       "267            258  03-02-2024    2              0   8000.0                 0   \n",
       "268            259  04-02-2024    3              0     80.0                 0   \n",
       "\n",
       "     Payment mode  Monthly Saving  Cumulative Saving  Total Balance  \n",
       "0               2         27700.0           27700.00      206620.21  \n",
       "1               2         26979.1           26979.10      205899.31  \n",
       "2               1         26979.1           26979.10      205899.31  \n",
       "3               1         26979.1           26979.10      205899.31  \n",
       "4               1         26979.1           26979.10      205899.31  \n",
       "..            ...             ...                ...            ...  \n",
       "264             2         27700.0          160080.37      339000.58  \n",
       "265             1         27700.0          160080.37      339000.58  \n",
       "266             1         27700.0          160080.37      339000.58  \n",
       "267             0         19700.0          152080.37      331000.58  \n",
       "268             2         19620.0          152000.37      330920.58  \n",
       "\n",
       "[269 rows x 10 columns]"
      ]
     },
     "execution_count": 341,
     "metadata": {},
     "output_type": "execute_result"
    }
   ],
   "source": [
    "from sklearn.preprocessing import LabelEncoder\n",
    "le=LabelEncoder()\n",
    "obj_col=list(IncExp_data.columns[IncExp_data.dtypes==\"object\"])[1:]\n",
    "print(obj_col)\n",
    "for i in obj_col:\n",
    "    IncExp_data[i]=le.fit_transform(IncExp_data[i])\n",
    "IncExp_data"
   ]
  },
  {
   "cell_type": "code",
   "execution_count": 342,
   "metadata": {},
   "outputs": [
    {
     "name": "stdout",
     "output_type": "stream",
     "text": [
      "<class 'pandas.core.frame.DataFrame'>\n",
      "RangeIndex: 269 entries, 0 to 268\n",
      "Data columns (total 10 columns):\n",
      " #   Column             Non-Null Count  Dtype  \n",
      "---  ------             --------------  -----  \n",
      " 0   Serial Number      269 non-null    int64  \n",
      " 1   Date               269 non-null    object \n",
      " 2   Day                269 non-null    int32  \n",
      " 3   IncExp Status      269 non-null    int32  \n",
      " 4   Rupees             269 non-null    float64\n",
      " 5   Pupose of IncExp   269 non-null    int32  \n",
      " 6   Payment mode       269 non-null    int32  \n",
      " 7   Monthly Saving     269 non-null    float64\n",
      " 8   Cumulative Saving  269 non-null    float64\n",
      " 9   Total Balance      269 non-null    float64\n",
      "dtypes: float64(4), int32(4), int64(1), object(1)\n",
      "memory usage: 16.9+ KB\n"
     ]
    }
   ],
   "source": [
    "IncExp_data.info()"
   ]
  },
  {
   "cell_type": "code",
   "execution_count": 343,
   "metadata": {},
   "outputs": [
    {
     "data": {
      "text/html": [
       "<div>\n",
       "<style scoped>\n",
       "    .dataframe tbody tr th:only-of-type {\n",
       "        vertical-align: middle;\n",
       "    }\n",
       "\n",
       "    .dataframe tbody tr th {\n",
       "        vertical-align: top;\n",
       "    }\n",
       "\n",
       "    .dataframe thead th {\n",
       "        text-align: right;\n",
       "    }\n",
       "</style>\n",
       "<table border=\"1\" class=\"dataframe\">\n",
       "  <thead>\n",
       "    <tr style=\"text-align: right;\">\n",
       "      <th></th>\n",
       "      <th>Serial Number</th>\n",
       "      <th>Date</th>\n",
       "      <th>Day</th>\n",
       "      <th>IncExp Status</th>\n",
       "      <th>Rupees</th>\n",
       "      <th>Pupose of IncExp</th>\n",
       "      <th>Payment mode</th>\n",
       "      <th>Monthly Saving</th>\n",
       "      <th>Cumulative Saving</th>\n",
       "      <th>Total Balance</th>\n",
       "    </tr>\n",
       "  </thead>\n",
       "  <tbody>\n",
       "    <tr>\n",
       "      <th>0</th>\n",
       "      <td>1</td>\n",
       "      <td>31-07-2023</td>\n",
       "      <td>1</td>\n",
       "      <td>1</td>\n",
       "      <td>27700.0</td>\n",
       "      <td>30</td>\n",
       "      <td>2</td>\n",
       "      <td>27700.0</td>\n",
       "      <td>27700.00</td>\n",
       "      <td>206620.21</td>\n",
       "    </tr>\n",
       "    <tr>\n",
       "      <th>1</th>\n",
       "      <td>2</td>\n",
       "      <td>01-08-2023</td>\n",
       "      <td>5</td>\n",
       "      <td>0</td>\n",
       "      <td>720.9</td>\n",
       "      <td>23</td>\n",
       "      <td>2</td>\n",
       "      <td>26979.1</td>\n",
       "      <td>26979.10</td>\n",
       "      <td>205899.31</td>\n",
       "    </tr>\n",
       "    <tr>\n",
       "      <th>2</th>\n",
       "      <td>3</td>\n",
       "      <td>02-08-2023</td>\n",
       "      <td>6</td>\n",
       "      <td>2</td>\n",
       "      <td>0.0</td>\n",
       "      <td>29</td>\n",
       "      <td>1</td>\n",
       "      <td>26979.1</td>\n",
       "      <td>26979.10</td>\n",
       "      <td>205899.31</td>\n",
       "    </tr>\n",
       "    <tr>\n",
       "      <th>3</th>\n",
       "      <td>4</td>\n",
       "      <td>03-08-2023</td>\n",
       "      <td>4</td>\n",
       "      <td>2</td>\n",
       "      <td>0.0</td>\n",
       "      <td>29</td>\n",
       "      <td>1</td>\n",
       "      <td>26979.1</td>\n",
       "      <td>26979.10</td>\n",
       "      <td>205899.31</td>\n",
       "    </tr>\n",
       "    <tr>\n",
       "      <th>4</th>\n",
       "      <td>5</td>\n",
       "      <td>04-08-2023</td>\n",
       "      <td>0</td>\n",
       "      <td>2</td>\n",
       "      <td>0.0</td>\n",
       "      <td>29</td>\n",
       "      <td>1</td>\n",
       "      <td>26979.1</td>\n",
       "      <td>26979.10</td>\n",
       "      <td>205899.31</td>\n",
       "    </tr>\n",
       "    <tr>\n",
       "      <th>...</th>\n",
       "      <td>...</td>\n",
       "      <td>...</td>\n",
       "      <td>...</td>\n",
       "      <td>...</td>\n",
       "      <td>...</td>\n",
       "      <td>...</td>\n",
       "      <td>...</td>\n",
       "      <td>...</td>\n",
       "      <td>...</td>\n",
       "      <td>...</td>\n",
       "    </tr>\n",
       "    <tr>\n",
       "      <th>264</th>\n",
       "      <td>255</td>\n",
       "      <td>31-01-2024</td>\n",
       "      <td>6</td>\n",
       "      <td>1</td>\n",
       "      <td>27700.0</td>\n",
       "      <td>30</td>\n",
       "      <td>2</td>\n",
       "      <td>27700.0</td>\n",
       "      <td>160080.37</td>\n",
       "      <td>339000.58</td>\n",
       "    </tr>\n",
       "    <tr>\n",
       "      <th>265</th>\n",
       "      <td>256</td>\n",
       "      <td>01-02-2024</td>\n",
       "      <td>4</td>\n",
       "      <td>2</td>\n",
       "      <td>0.0</td>\n",
       "      <td>29</td>\n",
       "      <td>1</td>\n",
       "      <td>27700.0</td>\n",
       "      <td>160080.37</td>\n",
       "      <td>339000.58</td>\n",
       "    </tr>\n",
       "    <tr>\n",
       "      <th>266</th>\n",
       "      <td>257</td>\n",
       "      <td>02-02-2024</td>\n",
       "      <td>0</td>\n",
       "      <td>2</td>\n",
       "      <td>0.0</td>\n",
       "      <td>29</td>\n",
       "      <td>1</td>\n",
       "      <td>27700.0</td>\n",
       "      <td>160080.37</td>\n",
       "      <td>339000.58</td>\n",
       "    </tr>\n",
       "    <tr>\n",
       "      <th>267</th>\n",
       "      <td>258</td>\n",
       "      <td>03-02-2024</td>\n",
       "      <td>2</td>\n",
       "      <td>0</td>\n",
       "      <td>8000.0</td>\n",
       "      <td>0</td>\n",
       "      <td>0</td>\n",
       "      <td>19700.0</td>\n",
       "      <td>152080.37</td>\n",
       "      <td>331000.58</td>\n",
       "    </tr>\n",
       "    <tr>\n",
       "      <th>268</th>\n",
       "      <td>259</td>\n",
       "      <td>04-02-2024</td>\n",
       "      <td>3</td>\n",
       "      <td>0</td>\n",
       "      <td>80.0</td>\n",
       "      <td>0</td>\n",
       "      <td>2</td>\n",
       "      <td>19620.0</td>\n",
       "      <td>152000.37</td>\n",
       "      <td>330920.58</td>\n",
       "    </tr>\n",
       "  </tbody>\n",
       "</table>\n",
       "<p>269 rows × 10 columns</p>\n",
       "</div>"
      ],
      "text/plain": [
       "     Serial Number        Date  Day  IncExp Status   Rupees  Pupose of IncExp  \\\n",
       "0                1  31-07-2023    1              1  27700.0                30   \n",
       "1                2  01-08-2023    5              0    720.9                23   \n",
       "2                3  02-08-2023    6              2      0.0                29   \n",
       "3                4  03-08-2023    4              2      0.0                29   \n",
       "4                5  04-08-2023    0              2      0.0                29   \n",
       "..             ...         ...  ...            ...      ...               ...   \n",
       "264            255  31-01-2024    6              1  27700.0                30   \n",
       "265            256  01-02-2024    4              2      0.0                29   \n",
       "266            257  02-02-2024    0              2      0.0                29   \n",
       "267            258  03-02-2024    2              0   8000.0                 0   \n",
       "268            259  04-02-2024    3              0     80.0                 0   \n",
       "\n",
       "     Payment mode  Monthly Saving  Cumulative Saving  Total Balance  \n",
       "0               2         27700.0           27700.00      206620.21  \n",
       "1               2         26979.1           26979.10      205899.31  \n",
       "2               1         26979.1           26979.10      205899.31  \n",
       "3               1         26979.1           26979.10      205899.31  \n",
       "4               1         26979.1           26979.10      205899.31  \n",
       "..            ...             ...                ...            ...  \n",
       "264             2         27700.0          160080.37      339000.58  \n",
       "265             1         27700.0          160080.37      339000.58  \n",
       "266             1         27700.0          160080.37      339000.58  \n",
       "267             0         19700.0          152080.37      331000.58  \n",
       "268             2         19620.0          152000.37      330920.58  \n",
       "\n",
       "[269 rows x 10 columns]"
      ]
     },
     "execution_count": 343,
     "metadata": {},
     "output_type": "execute_result"
    }
   ],
   "source": [
    "#IncExp_data[\"Date\"] = pd.to_datetime(IncExp_data[\"Date\"])\n",
    "#Date=IncExp_data[\"Date\"]\n",
    "IncExp_data.set_index(IncExp_data[\"Date\"])\n",
    "#IncExp_data=IncExp_data.drop(columns=\"Date\")\n",
    "IncExp_data"
   ]
  },
  {
   "cell_type": "markdown",
   "metadata": {},
   "source": [
    "# Vis"
   ]
  },
  {
   "cell_type": "code",
   "execution_count": 344,
   "metadata": {},
   "outputs": [
    {
     "data": {
      "image/png": "[encoded data removed]",
      "text/plain": [
       "<Figure size 1500x500 with 1 Axes>"
      ]
     },
     "metadata": {},
     "output_type": "display_data"
    }
   ],
   "source": [
    "import seaborn as sns\n",
    "import matplotlib.pyplot as plt\n",
    "plt.figure(figsize=[15,5])\n",
    "sns.boxplot(IncExp_data)\n",
    "plt.show()"
   ]
  },
  {
   "cell_type": "code",
   "execution_count": 345,
   "metadata": {},
   "outputs": [
    {
     "name": "stdout",
     "output_type": "stream",
     "text": [
      "<class 'pandas.core.frame.DataFrame'>\n",
      "RangeIndex: 269 entries, 0 to 268\n",
      "Data columns (total 10 columns):\n",
      " #   Column             Non-Null Count  Dtype  \n",
      "---  ------             --------------  -----  \n",
      " 0   Serial Number      269 non-null    int64  \n",
      " 1   Date               269 non-null    object \n",
      " 2   Day                269 non-null    int32  \n",
      " 3   IncExp Status      269 non-null    int32  \n",
      " 4   Rupees             269 non-null    float64\n",
      " 5   Pupose of IncExp   269 non-null    int32  \n",
      " 6   Payment mode       269 non-null    int32  \n",
      " 7   Monthly Saving     269 non-null    float64\n",
      " 8   Cumulative Saving  269 non-null    float64\n",
      " 9   Total Balance      269 non-null    float64\n",
      "dtypes: float64(4), int32(4), int64(1), object(1)\n",
      "memory usage: 16.9+ KB\n"
     ]
    }
   ],
   "source": [
    "IncExp_data.info()"
   ]
  },
  {
   "cell_type": "code",
   "execution_count": 346,
   "metadata": {},
   "outputs": [
    {
     "name": "stdout",
     "output_type": "stream",
     "text": [
      "['Serial Number', 'Date', 'Day', 'IncExp Status', 'Rupees', 'Pupose of IncExp', 'Payment mode', 'Monthly Saving', 'Cumulative Saving', 'Total Balance']\n"
     ]
    },
    {
     "data": {
      "image/png": "[encoded data removed]",
      "text/plain": [
       "<Figure size 1500x500 with 1 Axes>"
      ]
     },
     "metadata": {},
     "output_type": "display_data"
    }
   ],
   "source": [
    "def outlier(i):\n",
    "    q1=IncExp_data[i].quantile(0.25)\n",
    "    q3=IncExp_data[i].quantile(0.75)\n",
    "    IQR=q3-q1\n",
    "\n",
    "    lb=q1-(IQR*1.5)\n",
    "    ub=q3+(IQR*1.5)\n",
    "\n",
    "    IncExp_data.loc[IncExp_data[i]<lb,i]=lb\n",
    "    IncExp_data.loc[IncExp_data[i]>ub,i]=ub\n",
    "print(list(IncExp_data.columns))\n",
    "for i in list(IncExp_data.columns):\n",
    "    if i!=\"Date\":\n",
    "        outlier(i)\n",
    "\n",
    "plt.figure(figsize=[15,5])\n",
    "sns.boxplot(IncExp_data)\n",
    "plt.show()"
   ]
  },
  {
   "cell_type": "markdown",
   "metadata": {},
   "source": [
    "# Model Building"
   ]
  },
  {
   "cell_type": "code",
   "execution_count": null,
   "metadata": {},
   "outputs": [],
   "source": []
  },
  {
   "cell_type": "code",
   "execution_count": null,
   "metadata": {},
   "outputs": [],
   "source": []
  },
  {
   "cell_type": "code",
   "execution_count": null,
   "metadata": {},
   "outputs": [],
   "source": []
  },
  {
   "cell_type": "code",
   "execution_count": null,
   "metadata": {},
   "outputs": [],
   "source": []
  },
  {
   "cell_type": "code",
   "execution_count": null,
   "metadata": {},
   "outputs": [],
   "source": []
  },
  {
   "cell_type": "code",
   "execution_count": null,
   "metadata": {},
   "outputs": [],
   "source": []
  },
  {
   "cell_type": "code",
   "execution_count": null,
   "metadata": {},
   "outputs": [],
   "source": []
  },
  {
   "cell_type": "code",
   "execution_count": null,
   "metadata": {},
   "outputs": [],
   "source": []
  },
  {
   "cell_type": "code",
   "execution_count": null,
   "metadata": {},
   "outputs": [],
   "source": []
  },
  {
   "cell_type": "code",
   "execution_count": null,
   "metadata": {},
   "outputs": [],
   "source": []
  },
  {
   "cell_type": "code",
   "execution_count": null,
   "metadata": {},
   "outputs": [],
   "source": []
  },
  {
   "cell_type": "code",
   "execution_count": null,
   "metadata": {},
   "outputs": [],
   "source": []
  },
  {
   "cell_type": "code",
   "execution_count": null,
   "metadata": {},
   "outputs": [],
   "source": []
  },
  {
   "cell_type": "code",
   "execution_count": 347,
   "metadata": {},
   "outputs": [
    {
     "data": {
      "image/png": "[encoded data removed]",
      "text/plain": [
       "<Figure size 640x480 with 1 Axes>"
      ]
     },
     "metadata": {},
     "output_type": "display_data"
    }
   ],
   "source": [
    "plt.plot(IncExp_data[\"Date\"],IncExp_data.iloc[:,-1])\n",
    "plt.xticks(rotation=45)\n",
    "plt.show()"
   ]
  },
  {
   "cell_type": "code",
   "execution_count": null,
   "metadata": {},
   "outputs": [],
   "source": []
  }
 ],
 "metadata": {
  "kernelspec": {
   "display_name": "base",
   "language": "python",
   "name": "python3"
  },
  "language_info": {
   "codemirror_mode": {
    "name": "ipython",
    "version": 3
   },
   "file_extension": ".py",
   "mimetype": "text/x-python",
   "name": "python",
   "nbconvert_exporter": "python",
   "pygments_lexer": "ipython3",
   "version": "3.11.4"
  }
 },
 "nbformat": 4,
 "nbformat_minor": 2
}
