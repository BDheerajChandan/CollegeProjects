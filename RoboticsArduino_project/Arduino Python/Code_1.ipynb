{
 "cells": [
  {
   "cell_type": "code",
   "execution_count": 18,
   "metadata": {},
   "outputs": [
    {
     "data": {
      "text/plain": [
       "'void setup() {\\n  // put your setup code here, to run once:\\npinMode(13,OUTPUT);\\npinMode(6,OUTPUT);\\n}\\n\\nvoid loop() {\\n  // put your main code here, to run repeatedly:\\ndigitalWrite(13,HIGH);\\ndelay(1000);\\ndigitalWrite(13,LOW);\\ndelay(1000);//milli second\\ndigitalWrite(6,HIGH);\\ndelay(1000);\\ndigitalWrite(6,LOW);\\ndelay(1000);//milli second\\n}\\n'"
      ]
     },
     "execution_count": 18,
     "metadata": {},
     "output_type": "execute_result"
    }
   ],
   "source": [
    "\"\"\"void setup() {\n",
    "  // put your setup code here, to run once:\n",
    "pinMode(13,OUTPUT);\n",
    "pinMode(6,OUTPUT);\n",
    "}\n",
    "\n",
    "void loop() {\n",
    "  // put your main code here, to run repeatedly:\n",
    "digitalWrite(13,HIGH);\n",
    "delay(1000);\n",
    "digitalWrite(13,LOW);\n",
    "delay(1000);//milli second\n",
    "digitalWrite(6,HIGH);\n",
    "delay(1000);\n",
    "digitalWrite(6,LOW);\n",
    "delay(1000);//milli second\n",
    "}\n",
    "\"\"\""
   ]
  },
  {
   "cell_type": "code",
   "execution_count": 19,
   "metadata": {},
   "outputs": [
    {
     "data": {
      "text/plain": [
       "'\\nIn arduino IDE if i upload code to UNO board then actions took place automatically , \\nbut using puthon code to upload its not happening. Is it true ?\\n\\n    Yes, you are correct. When you upload code to the Arduino Uno using the Arduino IDE, \\n        the code is automatically compiled and uploaded to the Arduino board, and \\n        the board begins executing the code right away.\\n\\n    However, in your case, you\\'re using Python to upload the Arduino sketch, \\n        which is primarily automating the upload process. After the upload is complete, \\n        the Arduino board should start executing the code just like it would if you uploaded it manually via the Arduino IDE.\\n\\nYou\\'re right that the Arduino IDE automatically starts executing the code after uploading, \\nbut when you use Python to upload the code, the execution of the code might not happen as expected.\\n\\n\\nArduino Client Download : https://github.com/arduino/arduino-cli/releases\\n\" <Arduino cli exe path version> \" version\\n\" <Arduino cli exe path version> \" compile --board arduino:avr:uno \" <Arduino UNO code .ino file> \"\\n\"<path-to-arduino-cli>\\x07rduino-cli.exe\" core install arduino:avr\\n\"<path-to-arduino-cli>\\x07rduino-cli.exe\" board list\\n\"<path-to-arduino-cli>\\x07rduino-cli.exe\" upload -b arduino:avr:uno -p COM4 \"<path-to-your-sketch-file>.ino\"\\n\" <Arduino cli exe path version> \" upload --board arduino:avr:uno --port COM4 \" <Arduino UNO code .ino file> \"\\nrun \" Python code/script\"\\n\\n\" <Arduino cli exe path version> \" upload -b arduino:avr:uno -p COM4 \" <Arduino UNO code .ino file> \"\\n\" Python code/script\"\\n\\nBoard Info : \" <Arduino cli exe path version> \" board list\\nBoard ackage : \" <Arduino cli exe path version> \" core install arduino:avr\\nrun \" Python code/script\"\\n\\n\\n'"
      ]
     },
     "execution_count": 19,
     "metadata": {},
     "output_type": "execute_result"
    }
   ],
   "source": [
    "\"\"\"\n",
    "In arduino IDE if i upload code to UNO board then actions took place automatically , \n",
    "but using puthon code to upload its not happening. Is it true ?\n",
    "\n",
    "    Yes, you are correct. When you upload code to the Arduino Uno using the Arduino IDE, \n",
    "        the code is automatically compiled and uploaded to the Arduino board, and \n",
    "        the board begins executing the code right away.\n",
    "\n",
    "    However, in your case, you're using Python to upload the Arduino sketch, \n",
    "        which is primarily automating the upload process. After the upload is complete, \n",
    "        the Arduino board should start executing the code just like it would if you uploaded it manually via the Arduino IDE.\n",
    "\n",
    "You're right that the Arduino IDE automatically starts executing the code after uploading, \n",
    "but when you use Python to upload the code, the execution of the code might not happen as expected.\n",
    "\n",
    "\n",
    "Arduino Client Download : https://github.com/arduino/arduino-cli/releases\n",
    "\" <Arduino cli exe path version> \" version\n",
    "\" <Arduino cli exe path version> \" compile --board arduino:avr:uno \" <Arduino UNO code .ino file> \"\n",
    "\"<path-to-arduino-cli>\\arduino-cli.exe\" core install arduino:avr\n",
    "\"<path-to-arduino-cli>\\arduino-cli.exe\" board list\n",
    "\"<path-to-arduino-cli>\\arduino-cli.exe\" upload -b arduino:avr:uno -p COM4 \"<path-to-your-sketch-file>.ino\"\n",
    "\" <Arduino cli exe path version> \" upload --board arduino:avr:uno --port COM4 \" <Arduino UNO code .ino file> \"\n",
    "run \" Python code/script\"\n",
    "\n",
    "\" <Arduino cli exe path version> \" upload -b arduino:avr:uno -p COM4 \" <Arduino UNO code .ino file> \"\n",
    "\" Python code/script\"\n",
    "\n",
    "Board Info : \" <Arduino cli exe path version> \" board list\n",
    "Board ackage : \" <Arduino cli exe path version> \" core install arduino:avr\n",
    "run \" Python code/script\"\n",
    "\n",
    "\n",
    "\"\"\""
   ]
  },
  {
   "cell_type": "markdown",
   "metadata": {},
   "source": [
    "# Code 1: Uploading Arduino Sketch using Python and Arduino IDE"
   ]
  },
  {
   "cell_type": "code",
   "execution_count": 20,
   "metadata": {},
   "outputs": [
    {
     "data": {
      "text/plain": [
       "'import subprocess\\nimport os\\n\\n# Path to the Arduino IDE executable\\narduino_ide_path = r\"C:\\\\Users\\\\KIIT\\\\AppData\\\\Local\\\\Programs\\\\Arduino IDE\\\\Arduino IDE.exe\"  # Adjust for your system\\n\\n# Path to your Arduino sketch file\\nsketch_file = r\"C:\\\\Users\\\\KIIT\\\\Desktop\\\\GitHUB\\\\CollegeProjects\\\\RoboticsArduino_project\\\\Arduino Python\\\\1_sketch_jan11a_LED_Blink\\\\1_sketch_jan11a_LED_Blink.ino\"\\n\\n# Make sure the sketch file exists\\nif not os.path.exists(sketch_file):\\n    print(\"Error: Sketch file not found.\")\\nelse:\\n    # Command to open the Arduino IDE and upload the sketch\\n    # Add serial port and board type, modify as needed for your setup\\n    command = [\\n        arduino_ide_path,\\n        \"--upload\", sketch_file,\\n        \"--port\", \"COM4\",  # Adjust for your system\\'s serial port\\n        \"--board\", \"arduino:avr:uno\"  # Adjust for your specific board (e.g., arduino:avr:uno for Arduino Uno)\\n    ]\\n\\n    # Run the command to upload the sketch\\n    try:\\n        subprocess.run(command, check=True)\\n        print(\"Upload successful.\")\\n    except subprocess.CalledProcessError as e:\\n        print(f\"Error during upload: {e}\")\\n'"
      ]
     },
     "execution_count": 20,
     "metadata": {},
     "output_type": "execute_result"
    }
   ],
   "source": [
    "\"\"\"import subprocess\n",
    "import os\n",
    "\n",
    "# Path to the Arduino IDE executable\n",
    "arduino_ide_path = r\"C:\\\\Users\\\\KIIT\\\\AppData\\\\Local\\\\Programs\\\\Arduino IDE\\\\Arduino IDE.exe\"  # Adjust for your system\n",
    "\n",
    "# Path to your Arduino sketch file\n",
    "sketch_file = r\"C:\\\\Users\\\\KIIT\\\\Desktop\\\\GitHUB\\\\CollegeProjects\\\\RoboticsArduino_project\\\\Arduino Python\\\\1_sketch_jan11a_LED_Blink\\\\1_sketch_jan11a_LED_Blink.ino\"\n",
    "\n",
    "# Make sure the sketch file exists\n",
    "if not os.path.exists(sketch_file):\n",
    "    print(\"Error: Sketch file not found.\")\n",
    "else:\n",
    "    # Command to open the Arduino IDE and upload the sketch\n",
    "    # Add serial port and board type, modify as needed for your setup\n",
    "    command = [\n",
    "        arduino_ide_path,\n",
    "        \"--upload\", sketch_file,\n",
    "        \"--port\", \"COM4\",  # Adjust for your system's serial port\n",
    "        \"--board\", \"arduino:avr:uno\"  # Adjust for your specific board (e.g., arduino:avr:uno for Arduino Uno)\n",
    "    ]\n",
    "\n",
    "    # Run the command to upload the sketch\n",
    "    try:\n",
    "        subprocess.run(command, check=True)\n",
    "        print(\"Upload successful.\")\n",
    "    except subprocess.CalledProcessError as e:\n",
    "        print(f\"Error during upload: {e}\")\n",
    "\"\"\""
   ]
  },
  {
   "cell_type": "code",
   "execution_count": 21,
   "metadata": {},
   "outputs": [
    {
     "data": {
      "text/plain": [
       "'import subprocess\\nimport os\\nimport serial\\nfrom time import sleep\\n\\n# Path to the Arduino IDE executable\\narduino_ide_path = \"C:\\\\Users\\\\KIIT\\\\AppData\\\\Local\\\\Programs\\\\Arduino IDE\\\\Arduino IDE.exe\"  # Adjust for your system\\n# Path to the Arduino sketch file\\nsketch_file = \"C:\\\\Users\\\\KIIT\\\\Desktop\\\\GitHUB\\\\CollegeProjects\\\\RoboticsArduino_project\\\\Arduino Python\\\\1_sketch_jan11a_LED_Blink\\\\1_sketch_jan11a_LED_Blink.ino\"\\n\\n# Make sure the sketch file exists\\nif not os.path.exists(sketch_file):\\n    print(\"Error: Sketch file not found.\")\\nelse:\\n    # Define the serial port (COM4 in this case, adjust as needed)\\n    port = \"COM4\"  # Update this with your system\\'s correct port\\n    baudrate = 9600  # Baud rate for the serial communication\\n\\n    # Open the serial connection to trigger reset\\n    with serial.Serial(port, baudrate, timeout=1) as ser:\\n        # Toggle DTR to trigger a reset on the Arduino\\n        ser.dtr = False  # Disable DTR (reset Arduino)\\n        sleep(0.1)  # Wait a bit for the reset to occur\\n        ser.dtr = True  # Re-enable DTR (keep Arduino in bootloader mode)\\n        sleep(0.1)  # Allow time for the reset to complete\\n\\n    # Command to open the Arduino IDE and upload the sketch\\n    command = [\\n        arduino_ide_path,\\n        \"--upload\", sketch_file,\\n        \"--port\", port,  # Adjust for your system\\'s serial port\\n        \"--board\", \"arduino:avr:uno\"  # Adjust for your specific board (e.g., arduino:avr:uno for Arduino Uno)\\n    ]\\n\\n    # Run the command to upload the sketch\\n    try:\\n        subprocess.run(command, check=True)\\n        print(\"Upload successful.\")\\n    except subprocess.CalledProcessError as e:\\n        print(f\"Error during upload: {e}\")\\n'"
      ]
     },
     "execution_count": 21,
     "metadata": {},
     "output_type": "execute_result"
    }
   ],
   "source": [
    "\"\"\"import subprocess\n",
    "import os\n",
    "import serial\n",
    "from time import sleep\n",
    "\n",
    "# Path to the Arduino IDE executable\n",
    "arduino_ide_path = \"C:\\\\Users\\\\KIIT\\\\AppData\\\\Local\\\\Programs\\\\Arduino IDE\\\\Arduino IDE.exe\"  # Adjust for your system\n",
    "# Path to the Arduino sketch file\n",
    "sketch_file = \"C:\\\\Users\\\\KIIT\\\\Desktop\\\\GitHUB\\\\CollegeProjects\\\\RoboticsArduino_project\\\\Arduino Python\\\\1_sketch_jan11a_LED_Blink\\\\1_sketch_jan11a_LED_Blink.ino\"\n",
    "\n",
    "# Make sure the sketch file exists\n",
    "if not os.path.exists(sketch_file):\n",
    "    print(\"Error: Sketch file not found.\")\n",
    "else:\n",
    "    # Define the serial port (COM4 in this case, adjust as needed)\n",
    "    port = \"COM4\"  # Update this with your system's correct port\n",
    "    baudrate = 9600  # Baud rate for the serial communication\n",
    "\n",
    "    # Open the serial connection to trigger reset\n",
    "    with serial.Serial(port, baudrate, timeout=1) as ser:\n",
    "        # Toggle DTR to trigger a reset on the Arduino\n",
    "        ser.dtr = False  # Disable DTR (reset Arduino)\n",
    "        sleep(0.1)  # Wait a bit for the reset to occur\n",
    "        ser.dtr = True  # Re-enable DTR (keep Arduino in bootloader mode)\n",
    "        sleep(0.1)  # Allow time for the reset to complete\n",
    "\n",
    "    # Command to open the Arduino IDE and upload the sketch\n",
    "    command = [\n",
    "        arduino_ide_path,\n",
    "        \"--upload\", sketch_file,\n",
    "        \"--port\", port,  # Adjust for your system's serial port\n",
    "        \"--board\", \"arduino:avr:uno\"  # Adjust for your specific board (e.g., arduino:avr:uno for Arduino Uno)\n",
    "    ]\n",
    "\n",
    "    # Run the command to upload the sketch\n",
    "    try:\n",
    "        subprocess.run(command, check=True)\n",
    "        print(\"Upload successful.\")\n",
    "    except subprocess.CalledProcessError as e:\n",
    "        print(f\"Error during upload: {e}\")\n",
    "\"\"\""
   ]
  },
  {
   "cell_type": "code",
   "execution_count": 22,
   "metadata": {},
   "outputs": [
    {
     "name": "stdout",
     "output_type": "stream",
     "text": [
      "Upload successful.\n",
      "Output: New upload port: COM4 (serial)\n",
      "\n"
     ]
    }
   ],
   "source": [
    "import subprocess\n",
    "\n",
    "# Full path to the Arduino CLI executable\n",
    "arduino_cli_path = r\"C:\\Users\\KIIT\\Documents\\Arduino 2025\\arduino-cli_1.1.1_Windows_64bit\\arduino-cli.exe\"\n",
    "\n",
    "# Path to the Arduino sketch file\n",
    "sketch_file = r\"C:\\Users\\KIIT\\Desktop\\GitHUB\\CollegeProjects\\RoboticsArduino_project\\Arduino Python\\1_sketch_jan11a_LED_Blink\\1_sketch_jan11a_LED_Blink.ino\"\n",
    "\n",
    "# Define the serial port and board type\n",
    "port = \"COM4\"  # Adjust this based on the correct port for your system\n",
    "board = \"arduino:avr:uno\"  # Fully Qualified Board Name (FQBN)\n",
    "\n",
    "# Command to upload the sketch using Arduino CLI\n",
    "command = [\n",
    "    arduino_cli_path, \"upload\", \"-b\", board, \"-p\", port, sketch_file\n",
    "]\n",
    "\n",
    "# Run the upload command\n",
    "try:\n",
    "    result = subprocess.run(command, check=True, capture_output=True, text=True)\n",
    "    print(\"Upload successful.\")\n",
    "    print(f\"Output: {result.stdout}\")\n",
    "except subprocess.CalledProcessError as e:\n",
    "    print(f\"Error during upload: {e}\")\n",
    "    print(f\"Error output: {e.stderr}\")\n"
   ]
  },
  {
   "cell_type": "code",
   "execution_count": 2,
   "metadata": {},
   "outputs": [
    {
     "name": "stdout",
     "output_type": "stream",
     "text": [
      "Upload successful.\n",
      "Output: New upload port: COM4 (serial)\n",
      "\n",
      "Board reset successfully. It should be running the uploaded code.\n"
     ]
    }
   ],
   "source": [
    "import subprocess\n",
    "import serial\n",
    "from time import sleep\n",
    "\n",
    "# Full path to the Arduino CLI executable\n",
    "arduino_cli_path = r\"C:\\Users\\KIIT\\Documents\\Arduino 2025\\arduino-cli_1.1.1_Windows_64bit\\arduino-cli.exe\"\n",
    "\n",
    "# Path to the Arduino sketch file\n",
    "sketch_file = r\"C:\\Users\\KIIT\\Desktop\\GitHUB\\CollegeProjects\\RoboticsArduino_project\\Arduino Python\\1_sketch_jan11a_LED_Blink\\1_sketch_jan11a_LED_Blink.ino\"\n",
    "\n",
    "# Define the serial port and board type\n",
    "port = \"COM4\"  # Adjust this based on the correct port for your system\n",
    "board = \"arduino:avr:uno\"  # Fully Qualified Board Name (FQBN)\n",
    "\n",
    "# Command to upload the sketch using Arduino CLI\n",
    "command = [\n",
    "    arduino_cli_path, \"upload\", \"-b\", board, \"-p\", port, sketch_file\n",
    "]\n",
    "\n",
    "# Run the upload command\n",
    "try:\n",
    "    result = subprocess.run(command, check=True, capture_output=True, text=True)\n",
    "    print(\"Upload successful.\")\n",
    "    print(f\"Output: {result.stdout}\")\n",
    "    \n",
    "    # After upload, trigger a reset (if needed) by toggling DTR\n",
    "    with serial.Serial(port, 9600, timeout=1) as ser:\n",
    "        ser.dtr = False  # Disable DTR (reset Arduino)\n",
    "        sleep(0.1)  # Wait a moment for the reset to take place\n",
    "        ser.dtr = True  # Re-enable DTR (keep Arduino running)\n",
    "        sleep(0.1)  # Give some time to reset and start running the code\n",
    "    \n",
    "    print(\"Board reset successfully. It should be running the uploaded code.\")\n",
    "\n",
    "except subprocess.CalledProcessError as e:\n",
    "    print(f\"Error during upload: {e}\")\n",
    "    print(f\"Error output: {e.stderr}\")\n"
   ]
  },
  {
   "cell_type": "markdown",
   "metadata": {},
   "source": [
    "# Code 2: Controlling an LED via Serial Communication with Python"
   ]
  },
  {
   "cell_type": "code",
   "execution_count": 1,
   "metadata": {},
   "outputs": [
    {
     "name": "stdout",
     "output_type": "stream",
     "text": [
      "LED ON\n",
      "LED OFF\n",
      "Invalid input. Please enter 1, 0, or q.\n",
      "LED ON\n",
      "Exiting program...\n",
      "LED OFF\n"
     ]
    }
   ],
   "source": [
    "import serial\n",
    "from time import sleep\n",
    "\n",
    "# Specify the serial port and baud rate\n",
    "ser = serial.Serial('COM4', 9600)  # Replace 'COM4' with your Arduino port (Windows) or '/dev/ttyUSB0' (Linux/Mac)\n",
    "\n",
    "try:\n",
    "    while True:\n",
    "        s = input(\"Enter 1 to turn on the LED, 0 to turn it off, or q to quit: \")\n",
    "\n",
    "        if s == '1':  # Input '1' to turn the LED on\n",
    "            ser.write(b'1')\n",
    "            print(\"LED ON\")\n",
    "        elif s == '0':  # Input '0' to turn the LED off\n",
    "            ser.write(b'0')\n",
    "            print(\"LED OFF\")\n",
    "        elif s == 'q':  # Input 'q' to quit the program\n",
    "            print(\"Exiting program...\")\n",
    "            ser.write(b'0')\n",
    "            print(\"LED OFF\")\n",
    "            break\n",
    "        else:\n",
    "            print(\"Invalid input. Please enter 1, 0, or q.\")\n",
    "\n",
    "except KeyboardInterrupt:\n",
    "    print(\"Program interrupted\")\n",
    "finally:\n",
    "    ser.close()  # Close the serial connection\n"
   ]
  }
 ],
 "metadata": {
  "kernelspec": {
   "display_name": "base",
   "language": "python",
   "name": "python3"
  },
  "language_info": {
   "codemirror_mode": {
    "name": "ipython",
    "version": 3
   },
   "file_extension": ".py",
   "mimetype": "text/x-python",
   "name": "python",
   "nbconvert_exporter": "python",
   "pygments_lexer": "ipython3",
   "version": "3.11.4"
  }
 },
 "nbformat": 4,
 "nbformat_minor": 2
}
