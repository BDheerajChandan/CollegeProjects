{
 "cells": [
  {
   "cell_type": "code",
   "execution_count": 1,
   "metadata": {},
   "outputs": [
    {
     "name": "stdout",
     "output_type": "stream",
     "text": [
      "['ADMISSIONS.csv', 'CALLOUT.csv', 'CAREGIVERS.csv', 'CHARTEVENTS.csv', 'CPTEVENTS.csv', 'DATETIMEEVENTS.csv', 'DIAGNOSES_ICD.csv', 'DRGCODES.csv', 'D_CPT.csv', 'D_ICD_DIAGNOSES.csv', 'D_ICD_PROCEDURES.csv', 'D_ITEMS.csv', 'D_LABITEMS.csv', 'ICUSTAYS.csv', 'INPUTEVENTS_CV.csv', 'INPUTEVENTS_MV.csv', 'LABEVENTS.csv', 'MICROBIOLOGYEVENTS.csv', 'NOTEEVENTS.csv', 'OUTPUTEVENTS.csv', 'PATIENTS.csv', 'PRESCRIPTIONS.csv', 'PROCEDUREEVENTS_MV.csv', 'PROCEDURES_ICD.csv', 'SERVICES.csv', 'TRANSFERS.csv']\n"
     ]
    },
    {
     "name": "stderr",
     "output_type": "stream",
     "text": [
      "C:\\Users\\KIIT\\AppData\\Local\\Temp\\ipykernel_18740\\1442821735.py:11: DtypeWarning: Columns (8,10,13,14) have mixed types. Specify dtype option on import or set low_memory=False.\n",
      "  datadata=pd.read_csv(DataFolderPath+f\"\\\\{i}\")\n",
      "C:\\Users\\KIIT\\AppData\\Local\\Temp\\ipykernel_18740\\1442821735.py:11: DtypeWarning: Columns (17,20,21) have mixed types. Specify dtype option on import or set low_memory=False.\n",
      "  datadata=pd.read_csv(DataFolderPath+f\"\\\\{i}\")\n"
     ]
    },
    {
     "data": {
      "text/plain": [
       "26"
      ]
     },
     "execution_count": 1,
     "metadata": {},
     "output_type": "execute_result"
    }
   ],
   "source": [
    "import os\n",
    "import pandas as pd\n",
    "foldername=\"\\\\Clinical DataBases\"\n",
    "currFolder=os.getcwd()\n",
    "DataFolderPath=currFolder+foldername\n",
    "dirfiles=[i for i in os.listdir(DataFolderPath) if i.endswith(\".csv\")]\n",
    "print(dirfiles)\n",
    "dataframe=pd.DataFrame()\n",
    "with pd.ExcelWriter(\"Medical.xlsx\") as writer:\n",
    "    for i in dirfiles:\n",
    "        datadata=pd.read_csv(DataFolderPath+f\"\\\\{i}\")\n",
    "        #print(datadata)\n",
    "        datadata.to_excel(writer,sheet_name=i,index=False)\n",
    "len(dirfiles)"
   ]
  },
  {
   "cell_type": "code",
   "execution_count": 2,
   "metadata": {},
   "outputs": [
    {
     "name": "stdout",
     "output_type": "stream",
     "text": [
      "{'Patient History': ['Name', 'Phone', 'age', 'gender', 'occupation', 'exercise', 'smoking', 'alcohol'], 'Symptoms Description': ['onset', 'duration', 'intensity', 'fever', 'nausea', 'pain'], 'Diagnostic Algo & AI Tool': {'Details': {'Patient History', 'Symptoms Description'}, 'Predicted': {'disease', 'risk', 'treatment'}}}\n"
     ]
    }
   ],
   "source": [
    "import pandas as pd\n",
    "col={\n",
    "    \"Patient History\":[\"Name\",\"Phone\",\"age\", \"gender\", \"occupation\",\"exercise\", \"smoking\", \"alcohol\"],\n",
    "    \"Symptoms Description\":[\"onset\", \"duration\", \"intensity\",\"fever\", \"nausea\", \"pain\"],\n",
    "    \"Diagnostic Algo & AI Tool\":{\"Details\":{\"Patient History\",\"Symptoms Description\"},\n",
    "                                 \"Predicted\":{\"disease\",\"risk\",\"treatment\"}}\n",
    "}\n",
    "print(col)"
   ]
  },
  {
   "cell_type": "code",
   "execution_count": null,
   "metadata": {},
   "outputs": [],
   "source": []
  }
 ],
 "metadata": {
  "kernelspec": {
   "display_name": "base",
   "language": "python",
   "name": "python3"
  },
  "language_info": {
   "codemirror_mode": {
    "name": "ipython",
    "version": 3
   },
   "file_extension": ".py",
   "mimetype": "text/x-python",
   "name": "python",
   "nbconvert_exporter": "python",
   "pygments_lexer": "ipython3",
   "version": "3.11.4"
  }
 },
 "nbformat": 4,
 "nbformat_minor": 2
}
