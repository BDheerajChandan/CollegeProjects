{
 "cells": [
  {
   "cell_type": "markdown",
   "metadata": {},
   "source": [
    "# Files and directory"
   ]
  },
  {
   "cell_type": "code",
   "execution_count": null,
   "metadata": {},
   "outputs": [],
   "source": [
    "import os\n",
    "os.listdir()"
   ]
  },
  {
   "cell_type": "markdown",
   "metadata": {},
   "source": [
    "# Read CSV"
   ]
  },
  {
   "cell_type": "code",
   "execution_count": null,
   "metadata": {},
   "outputs": [],
   "source": [
    "import pandas as pd\n",
    "data=pd.read_csv(\"tata - Copy.csv\")\n",
    "data.columns=[\"Date\",\"Time\",\"3\",\"4\",\"5\",\"IP\",\"ID\",\"Query_1\",\"9\",\"10\",\"11\",\"Query_2\",\"13\",\"14\",\"15\",\"16\"]\n",
    "data.head(10)"
   ]
  },
  {
   "cell_type": "markdown",
   "metadata": {},
   "source": [
    "# Filter data and load to new CSV"
   ]
  },
  {
   "cell_type": "code",
   "execution_count": null,
   "metadata": {},
   "outputs": [],
   "source": []
  },
  {
   "cell_type": "code",
   "execution_count": null,
   "metadata": {},
   "outputs": [],
   "source": []
  },
  {
   "cell_type": "code",
   "execution_count": null,
   "metadata": {},
   "outputs": [],
   "source": []
  },
  {
   "cell_type": "code",
   "execution_count": null,
   "metadata": {},
   "outputs": [],
   "source": [
    "data[[\"Date\",\"Time\",\"IP\",\"ID\",\"Query_2\"]].dropna().to_csv(\"Demo.csv\")"
   ]
  },
  {
   "cell_type": "markdown",
   "metadata": {},
   "source": [
    "# Read data from new CSV"
   ]
  },
  {
   "cell_type": "code",
   "execution_count": null,
   "metadata": {},
   "outputs": [],
   "source": [
    "New_data=pd.read_csv(\"Demo.csv\").iloc[:,1:]\n",
    "New_data"
   ]
  },
  {
   "cell_type": "code",
   "execution_count": null,
   "metadata": {},
   "outputs": [],
   "source": [
    "#New_data[\"Date\"] = pd.to_datetime(New_data[\"Date\"])\n",
    "\n",
    "# Convert \"39:37.8\" to a timedelta object\n",
    "#New_data[\"Time\"] = pd.to_timedelta(New_data[\"Time\"])\n",
    "\n",
    "\n",
    "New_data[\"DateTime\"]=New_data[\"Date\"]+\" \"+New_data[\"Time\"]\n",
    "# IST to UST ??\n",
    "New_data.drop([\"Date\",\"Time\"],axis=1,inplace=True)\n",
    "col=New_data.columns"
   ]
  },
  {
   "cell_type": "code",
   "execution_count": null,
   "metadata": {},
   "outputs": [],
   "source": [
    "New_data.head()"
   ]
  },
  {
   "cell_type": "code",
   "execution_count": null,
   "metadata": {},
   "outputs": [],
   "source": [
    "New_data[\"DateTime\"]\n"
   ]
  },
  {
   "cell_type": "markdown",
   "metadata": {},
   "source": [
    "# Regex for Time stamp"
   ]
  },
  {
   "cell_type": "code",
   "execution_count": null,
   "metadata": {},
   "outputs": [],
   "source": [
    "import re\n",
    "date_pattern = r\"\\d{2}-[A-Za-z]{3}-\\d{2}\"  # Matches \"16-Apr-24\"\n",
    "time_pattern = r\"\\d{2}:\\d{2}.\\d\"           # Matches \"39:37.8\"\n",
    "\n",
    "timestamp=\"16-Apr-24 39:37.8\"              # input(\"Enter the date : \")\n",
    "\n",
    "print(\"Total number of Data(Rows) : \",len(New_data[\"DateTime\"]))\n",
    "c=0\n",
    "for i in New_data[\"DateTime\"]:\n",
    "    date_match = re.search(date_pattern, timestamp)\n",
    "    time_match = re.search(time_pattern, timestamp)\n",
    "    if date_match and time_match:\n",
    "        c=c+1\n",
    "        #print(\"Match Found\")\n",
    "    else: \n",
    "        print(\"Not Found\")\n",
    "print(\"Total number of matches : \",c)\n"
   ]
  },
  {
   "cell_type": "markdown",
   "metadata": {},
   "source": [
    "# Regex for IP"
   ]
  },
  {
   "cell_type": "code",
   "execution_count": null,
   "metadata": {},
   "outputs": [],
   "source": [
    "import re\n",
    "IP_pattern = r'@0x[0-9a-fA-F]+'            # IP\n",
    "print(\"Total number of Data(Rows) : \",len(New_data[\"IP\"]))\n",
    "c=0\n",
    "for i in New_data[\"IP\"]:\n",
    "    IP_matches = re.search(IP_pattern, str(i))\n",
    "    if IP_matches:\n",
    "        c=c+1\n",
    "        #print(\"Match Found\")\n",
    "    else: \n",
    "        print(\"Not Found\")\n",
    "print(\"Total number of matches : \",c)\n"
   ]
  },
  {
   "cell_type": "markdown",
   "metadata": {},
   "source": [
    "# Regex for ID"
   ]
  },
  {
   "cell_type": "code",
   "execution_count": null,
   "metadata": {},
   "outputs": [],
   "source": [
    "import re\n",
    "ID_pattern = r'-?\\d+(?:\\.\\d+)?(?:[eE][+-]?\\d+)?'            # ID\n",
    "\n",
    "print(\"Total number of Data(Rows) : \",len(New_data[\"ID\"]))\n",
    "c=0\n",
    "for i in New_data[\"ID\"]:\n",
    "    ID_match = re.search(ID_pattern, str(i))\n",
    "    if ID_match:\n",
    "        c=c+1\n",
    "        #print(\"Match Found\")\n",
    "    else: \n",
    "        print(\"Not Found\")\n",
    "print(\"Total number of matches : \",c)\n"
   ]
  },
  {
   "cell_type": "markdown",
   "metadata": {},
   "source": [
    "# IP ID Query"
   ]
  },
  {
   "cell_type": "code",
   "execution_count": null,
   "metadata": {},
   "outputs": [],
   "source": [
    "import re\n",
    "from decimal import Decimal\n",
    "date_pattern = r\"\\d{2}-[A-Za-z]{3}-\\d{2}\"           # Matches \"16-Apr-24\"\n",
    "time_pattern = r\"\\d{2}:\\d{2}.\\d\"                    # Matches \"39:37.8\"\n",
    "IP_pattern = r'@0x[0-9a-fA-F]+'                     # IP\n",
    "ID_pattern = r'-?\\d+(?:\\.\\d+)?(?:[eE][+-]?\\d+)?'    # ID\n",
    "\n",
    "dict_data=dict(New_data)\n",
    "import numpy as np\n",
    "dict_data[\"ID\"].astype(str)\n",
    "#timestamp=\"16-Apr-24 39:37.8\"              # input(\"Enter the date : \")\n",
    "#IP=\"@0x7fccf8593ca8\" #\"@0x7fcd0c0b8c58\"\t\n",
    "ID=\"-8.235850e+18\"\n",
    "\n",
    "print(\"Total number of Data(Rows) : \",New_data.shape[0])\n",
    "'''\n",
    "for i in range(len(dict_data[\"IP\"])):\n",
    "    if IP==dict_data[\"IP\"][i]:\n",
    "        print(IP,dict_data[\"IP\"][i],\"True\")\n",
    "        print(pd.DataFrame(New_data.loc[i]))\n",
    "        break\n",
    "\n",
    "'''\n",
    "'''\n",
    "for i in range(len(dict_data[\"DateTime\"])):\n",
    "    if timestamp==dict_data[\"DateTime\"][i]:\n",
    "        print(timestamp,dict_data[\"DateTime\"][i],\"True\")\n",
    "        print(pd.DataFrame(New_data.loc[i]))\n",
    "        break\n",
    "'''\n",
    "id_decimal = Decimal(str(ID).strip())\n",
    "\n",
    "for i in range(3):#len(dict_data[\"ID\"])):\n",
    "    dict_id_decimal = Decimal(str(dict_data[\"ID\"][i]).strip())\n",
    "    #print(ID,\" : \",dict_data[\"ID\"][i],str(ID)==str(dict_data[\"ID\"][i]))\n",
    "    #print(type(ID),\" : \",type(str(dict_data[\"ID\"][i])),str(ID)==str(dict_data[\"ID\"][i]))\n",
    "    #print(ID==str(dict_data[\"ID\"][i]))\n",
    "    #if str(ID)==str(dict_data[\"ID\"][i]):\n",
    "    if id_decimal==dict_id_decimal:\n",
    "        print(timestamp,dict_data[\"ID\"][i],\"True\")\n",
    "        print(pd.DataFrame(New_data.loc[i]))\n",
    "        break\n",
    "    else:\n",
    "        #print(ID,\" : \",dict_data[\"ID\"][i],ID==str(dict_data[\"ID\"][i]))\n",
    "        #print(type(ID)==type(str(dict_data[\"ID\"][i])))\n",
    "        #print(type(ID),type(str(dict_data[\"ID\"][i])),\"True\")\n",
    "        #print(pd.DataFrame(New_data.loc[i]))\n",
    "        #break\n",
    "        pass"
   ]
  },
  {
   "cell_type": "code",
   "execution_count": null,
   "metadata": {},
   "outputs": [],
   "source": [
    "from decimal import Decimal\n",
    "\n",
    "# Ensure ID is converted to Decimal\n",
    "#id_decimal = Decimal(str(ID).strip())\n",
    "\n",
    "#for i in range(3):  # len(dict_data[\"ID\"])):\n",
    "for i in range(len(dict_data[\"ID\"])):\n",
    "    # Convert each item in dict_data[\"ID\"] to Decimal\n",
    "    dict_id_decimal = Decimal(str(dict_data[\"ID\"][i]).strip())\n",
    "\n",
    "    print(f\"{id_decimal} : {dict_id_decimal} {id_decimal == dict_id_decimal}\")\n",
    "    print(f\"{repr(id_decimal)} : {repr(dict_id_decimal)} {id_decimal == dict_id_decimal}\")\n",
    "    print(f\"{type(id_decimal)} : {type(dict_id_decimal)} {id_decimal == dict_id_decimal}\")\n",
    "\n",
    "    if id_decimal == dict_id_decimal:\n",
    "        print(f\"Match found: {id_decimal} : {dict_id_decimal}\")\n",
    "        print(pd.DataFrame(New_data.loc[i]))\n",
    "        break\n",
    "    else:\n",
    "        pass"
   ]
  },
  {
   "cell_type": "markdown",
   "metadata": {},
   "source": [
    "# Testing stage - Check pattern automode "
   ]
  },
  {
   "cell_type": "code",
   "execution_count": null,
   "metadata": {},
   "outputs": [],
   "source": [
    "import re\n",
    "date_pattern = r\"\\d{2}-[A-Za-z]{3}-\\d{2}\"           # Matches \"16-Apr-24\"\n",
    "time_pattern = r\"\\d{2}:\\d{2}.\\d\"                    # Matches \"39:37.8\"\n",
    "IP_pattern = r'@0x[0-9a-fA-F]+'                     # IP\n",
    "ID_pattern = r'-?\\d+(?:\\.\\d+)?(?:[eE][+-]?\\d+)?'    # ID\n",
    "\n",
    "dict_data=dict(New_data)\n",
    "import numpy as np\n",
    "dict_data[\"ID\"].astype(str)\n",
    "#timestamp=\"16-Apr-24 39:37.8\"              # input(\"Enter the date : \")\n",
    "IP=\"@0x7fccf8593ca8\" #\"@0x7fcd0c0b8c58\"\t\n",
    "#ID=\"-8.235850e+18\"\n",
    "\n",
    "print(\"Total number of Data(Rows) : \",New_data.shape[0])\n",
    "#for i in range(len(dict_data[\"IP\"])):\n",
    "    #print(New_data.loc[i],'\\n\\n')\n",
    "    #if IP==dict_data[\"IP\"][i]:\n",
    "    #print(IP,dict_data[\"IP\"][i],\"True\")\n",
    "    #print(pd.DataFrame(New_data.loc[i]))\n",
    "    #break"
   ]
  },
  {
   "cell_type": "code",
   "execution_count": null,
   "metadata": {},
   "outputs": [],
   "source": [
    "l=[]#out\n",
    "s=\"\"\n",
    "for j in New_data.loc[0]:\n",
    "    s=s+\"  \"+str(j)\n",
    "s"
   ]
  },
  {
   "cell_type": "code",
   "execution_count": null,
   "metadata": {},
   "outputs": [],
   "source": [
    "import re\n",
    "date_pattern = r\"\\d{2}-[A-Za-z]{3}-\\d{2}\"           # Matches \"16-Apr-24\"\n",
    "time_pattern = r\"\\d{2}:\\d{2}.\\d\"                    # Matches \"39:37.8\"\n",
    "IP_pattern = r'@0x[0-9a-fA-F]+'                     # IP\n",
    "ID_pattern = r'-?\\d+(?:\\.\\d+)?(?:[eE][+-]?\\d+)?'    # ID\n",
    "\n",
    "#s='  @0x7fcd0c0b8c58  -8.23585e+18  _ldap._tcp.4fe2d2cb-15d5-4629-a471-a7e6e931fe10.domains._msdcs.BIRLASOFT.COM  16-Apr-24 39:37.8'\n",
    "#s='  @0x7fcd0c0b8c58  -8.23585e+18  _ldap._tcp.4fe2d2cb-15d5-4629-a471-a7e6e931fe10.domains._msdcs.BIRLASOFT.COM  16-Apr-24 39:37.8'  ID error logic\n",
    "s='  @0x7fcd0c0b8c58  _ldap._tcp.4fe2d2cb-15d5-4629-a471-a7e6e931fe10.domains._msdcs.BIRLASOFT.COM  16-Apr-24 39:37.8'\n",
    "print(\"String : \\n\",s,\"\\n\")\n",
    "IP_match = re.search(IP_pattern, s)\n",
    "if IP_match:\n",
    "    print(\"ID Match Found \",IP_match.group())\n",
    "else: \n",
    "    print(\"Not Found\")\n",
    "\n",
    "date_match = re.search(date_pattern, s)\n",
    "if date_match:\n",
    "    print(\"Date Match Found \",date_match.group())\n",
    "else: \n",
    "    print(\"Not Found\")\n",
    "\n",
    "time_match = re.search(time_pattern, s)\n",
    "if time_match:\n",
    "    print(\"Time Match Found \",time_match.group())\n",
    "else: \n",
    "    print(\"Not Found\")"
   ]
  },
  {
   "cell_type": "code",
   "execution_count": null,
   "metadata": {},
   "outputs": [],
   "source": [
    "IP_list=[]\n",
    "date_List=[]\n",
    "time_List=[]\n",
    "query_List=[]\n",
    "\n",
    "s='  @0x7fcd0c0b8c58  _ldap._tcp.4fe2d2cb-15d5-4629-a471-a7e6e931fe10.domains._msdcs.BIRLASOFT.COM  16-Apr-24 39:37.8'\n",
    "\n",
    "s2=s\n",
    "print(s2)\n",
    "IP_match = re.search(IP_pattern, s2)\n",
    "date_match = re.search(date_pattern, s2)\n",
    "time_match = re.search(time_pattern, s2)\n",
    "\n",
    "if(IP_match or date_match or time_match):\n",
    "    if IP_match:\n",
    "        print(\"ID Match Found \",IP_match.group())\n",
    "        IP_list.append(IP_match.group())\n",
    "        s2=s2.replace(IP_match.group(),\"\")\n",
    "    else: \n",
    "        print(\" Time Not Found\")\n",
    "    if date_match:\n",
    "        print(\"Date Match Found \",date_match.group())\n",
    "        date_List.append(date_match.group())\n",
    "        s2=s2.replace(date_match.group(),\"\")\n",
    "    else: \n",
    "        print(\" Time Not Found\")\n",
    "    if time_match:\n",
    "        print(\"Time Match Found \",time_match.group())\n",
    "        time_List.append(time_match.group())\n",
    "        s2=s2.replace(time_match.group(),\"\")\n",
    "    else: \n",
    "        print(\" Time Not Found\")\n",
    "if((IP_match or date_match or time_match)!=False):\n",
    "    s2=s2.replace(\" \",\"\")\n",
    "    query_List.append(s2)\n",
    "    print(\"Query found : \",s2)"
   ]
  },
  {
   "cell_type": "code",
   "execution_count": null,
   "metadata": {},
   "outputs": [],
   "source": [
    "import pandas as pd\n",
    "Final_data=pd.DataFrame({\"Date\":date_List,\"Time\":time_List,\"IP\":IP_list,\"Query\":query_List})\n",
    "Final_data"
   ]
  },
  {
   "cell_type": "code",
   "execution_count": null,
   "metadata": {},
   "outputs": [],
   "source": [
    "IP_match.group()"
   ]
  },
  {
   "cell_type": "code",
   "execution_count": null,
   "metadata": {},
   "outputs": [],
   "source": [
    "s='  @0x7fcd0c0b8c58  dd'\n",
    "s=s.replace(IP_match.group(),\" \")\n",
    "s2\n"
   ]
  },
  {
   "cell_type": "markdown",
   "metadata": {},
   "source": [
    "# Final implementation (Except Query)"
   ]
  },
  {
   "cell_type": "code",
   "execution_count": null,
   "metadata": {},
   "outputs": [],
   "source": [
    "import pandas as pd\n",
    "data=pd.read_csv(\"tata - Copy.csv\",header=None).dropna()\n",
    "#data.columns=[\"Date\",\"Time\",\"3\",\"4\",\"5\",\"IP\",\"ID\",\"Query_1\",\"9\",\"10\",\"11\",\"Query_2\",\"13\",\"14\",\"15\",\"16\"]\n",
    "data.columns=[str(i) for i in range(len(data.columns))]\n",
    "print(type(data.columns[0]),data.columns)\n",
    "data.head(10)"
   ]
  },
  {
   "cell_type": "code",
   "execution_count": null,
   "metadata": {},
   "outputs": [],
   "source": [
    "#New_selected_data=New_data[[]]\n",
    "New_data=data[[\"0\",\"1\",\"5\",\"6\",\"11\"]].copy()\n",
    "\n",
    "New_data[\"01\"]=New_data[\"0\"]+\" \"+New_data[\"1\"]\n",
    "# IST to UST ??\n",
    "New_data.drop([\"0\",\"1\"],axis=1,inplace=True)\n",
    "col=New_data.columns\n",
    "New_data"
   ]
  },
  {
   "cell_type": "code",
   "execution_count": null,
   "metadata": {},
   "outputs": [],
   "source": [
    "IP_list=[]\n",
    "date_List=[]\n",
    "time_List=[]\n",
    "query_List=[]"
   ]
  },
  {
   "cell_type": "code",
   "execution_count": null,
   "metadata": {},
   "outputs": [],
   "source": [
    "# replace with inputs\n",
    "#s='  @0x7fcd0c0b8c58  _ldap._tcp.4fe2d2cb-15d5-4629-a471-a7e6e931fe10.domains._msdcs.BIRLASOFT.COM  16-Apr-24 39:37.8'\n",
    "import re\n",
    "date_pattern = r\"\\d{2}-[A-Za-z]{3}-\\d{2}\"           # Matches \"16-Apr-24\"\n",
    "time_pattern = r\"\\d{2}:\\d{2}.\\d\"                    # Matches \"39:37.8\"\n",
    "IP_pattern = r'@0x[0-9a-fA-F]+'                     # IP\n",
    "ID_pattern = r'-?\\d+(?:\\.\\d+)?(?:[eE][+-]?\\d+)?'    # ID\n",
    "\n",
    "for i in range(New_data.shape[0]):\n",
    "    s=\"\"\n",
    "    s=s+\"  \"+str(New_data.loc[i])\n",
    "    s2=s\n",
    "    #print(s2)\n",
    "    IP_match = re.search(IP_pattern, s2)\n",
    "    date_match = re.search(date_pattern, s2)\n",
    "    time_match = re.search(time_pattern, s2)\n",
    "\n",
    "    if(IP_match or date_match or time_match):\n",
    "        if IP_match:\n",
    "            #print(\"IP Match Found \",IP_match.group())\n",
    "            IP_list.append(IP_match.group())\n",
    "            s2=s2.replace(IP_match.group(),\"\")\n",
    "        else: \n",
    "            print(\" Time Not Found\")\n",
    "        if date_match:\n",
    "            #print(\"Date Match Found \",date_match.group())\n",
    "            date_List.append(date_match.group())\n",
    "            s2=s2.replace(date_match.group(),\"\")\n",
    "        else: \n",
    "            print(\" Time Not Found\")\n",
    "        if time_match:\n",
    "            #print(\"Time Match Found \",time_match.group())\n",
    "            time_List.append(time_match.group())\n",
    "            s2=s2.replace(time_match.group(),\"\")\n",
    "        else: \n",
    "            print(\" Time Not Found\")\n",
    "    if((IP_match or date_match or time_match)!=False):\n",
    "        s2=s2.replace(\" \",\"\")\n",
    "        query_List.append(s2)\n",
    "        #print(\"Query found : \",s2)\n",
    "    #print(\"\\n\")"
   ]
  },
  {
   "cell_type": "code",
   "execution_count": null,
   "metadata": {},
   "outputs": [],
   "source": [
    "print(len(IP_list))\n",
    "print(len(date_List))\n",
    "print(len(time_List))\n",
    "print(len(query_List))"
   ]
  },
  {
   "cell_type": "code",
   "execution_count": null,
   "metadata": {},
   "outputs": [],
   "source": [
    "query_List"
   ]
  },
  {
   "cell_type": "code",
   "execution_count": null,
   "metadata": {},
   "outputs": [],
   "source": [
    "import pandas as pd\n",
    "Final_data=pd.DataFrame({\"Date\":date_List,\"Time\":time_List,\"IP\":IP_list,\"Query\":query_List})\n",
    "Final_data"
   ]
  },
  {
   "cell_type": "code",
   "execution_count": null,
   "metadata": {},
   "outputs": [],
   "source": []
  }
 ],
 "metadata": {
  "kernelspec": {
   "display_name": "base",
   "language": "python",
   "name": "python3"
  },
  "language_info": {
   "codemirror_mode": {
    "name": "ipython",
    "version": 3
   },
   "file_extension": ".py",
   "mimetype": "text/x-python",
   "name": "python",
   "nbconvert_exporter": "python",
   "pygments_lexer": "ipython3",
   "version": "3.11.4"
  }
 },
 "nbformat": 4,
 "nbformat_minor": 2
}
